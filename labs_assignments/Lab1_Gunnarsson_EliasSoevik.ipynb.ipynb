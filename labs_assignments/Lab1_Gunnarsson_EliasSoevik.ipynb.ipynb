{
 "cells": [
  {
   "cell_type": "markdown",
   "metadata": {},
   "source": [
    "# Search strategies: Breadth first search"
   ]
  },
  {
   "cell_type": "markdown",
   "metadata": {},
   "source": [
    "**Graded lab assignment 1:** \n",
    "\n",
    "It is the year 2119. The planets of the solar system are divided between two fractions of humans - Earthlings and Martians. The Earth spacecraft was sent to the edge of the Solar System to count the asteroids that threaten to collide with Earth. As Earthlings do not want the Martians to intercept the information, the spacecraft sends the data in encrypted form as a string of 8 characters. Encryption is performed by sub-string inversions, and the smallest number of inversions required to go from a message character string to a sorted character string is a secret message."
   ]
  },
  {
   "cell_type": "raw",
   "metadata": {},
   "source": [
    "Example:\n",
    "\n",
    "A B C D |H G F E| -> A B C D |E F G H| : \n",
    "\n",
    "The minimum number of inversions is 1, so the secret message is 1."
   ]
  },
  {
   "cell_type": "markdown",
   "metadata": {},
   "source": [
    "Write a program that uses `Breadth First Search` strategy to reveal a secret message, i.e., the least number of inversions needed to get a sorted character string from the received encrypted message."
   ]
  },
  {
   "cell_type": "raw",
   "metadata": {},
   "source": [
    "Input:\n",
    " H  D |F  G  A| E  B  C\n",
    "\n",
    "Inversions (4):\n",
    "|H  D  A| G  F  E  B  C\n",
    " A  D |H  G  F  E  B  C|\n",
    " A |D  C  B| E  F  G  H \n",
    " A  B  C  D  E  F  G  H \n",
    "\n",
    "Output:\n",
    "Secret message: 4"
   ]
  },
  {
   "cell_type": "code",
   "execution_count": 11,
   "metadata": {},
   "outputs": [],
   "source": [
    "from collections import deque\n",
    "\n",
    "class Graph:\n",
    "    # The function returns a list of adjacent current state states\n",
    "    def get_neighbors(self, v) -> list:\n",
    "        n = len(v)\n",
    "        neighbors = []\n",
    "        for i in range(n - 1):\n",
    "            substrings = n - (i + 1)    # Number of substrings for this iteration\n",
    "            stringlen = i + 2           # Length of substring for this iteration\n",
    "            for string in range(substrings):\n",
    "                neighbor = v[:]     # Make a copy\n",
    "                # Reverse every combination of substrings\n",
    "                rev = neighbor[string : string + stringlen] = neighbor[string : string + stringlen][::-1]\n",
    "                # Swap substring with reversed substring\n",
    "                neighbor[string : string + stringlen] = rev\n",
    "                neighbors.append((neighbor, 1))\n",
    "        return neighbors\n",
    "    \n",
    "    # The function finds the path from start \n",
    "    # state to stop state using BFS search\n",
    "    # Implementation of pseudocode from https://en.wikipedia.org/wiki/Breadth-first_search\n",
    "    def bfs(self, start, stop) -> list:\n",
    "        path = []\n",
    "        S = [start]\n",
    "        parent = {}\n",
    "        # By casting into a string we obtain a series\n",
    "        parent[str(start)] = start\n",
    "        \n",
    "        while len(S) > 0:\n",
    "            n = S[0]\n",
    "            S.remove(n)\n",
    "\n",
    "            if n == stop :\n",
    "                path.append(n)\n",
    "                while n != start:\n",
    "                    n = parent[str(n)]\n",
    "                    path.append(n)\n",
    "                return path[::-1]\n",
    "                \n",
    "            for (m, weight) in self.get_neighbors(n):\n",
    "                if str(m) not in parent:\n",
    "                    S.append(m)\n",
    "                    parent[str(m)] = n\n",
    "\n",
    "        print('The requested path was not found')\n",
    "        return None"
   ]
  },
  {
   "cell_type": "markdown",
   "metadata": {},
   "source": [
    "**Test for get_neighbors**"
   ]
  },
  {
   "cell_type": "code",
   "execution_count": 12,
   "metadata": {},
   "outputs": [
    {
     "name": "stdout",
     "output_type": "stream",
     "text": [
      "True\n"
     ]
    }
   ],
   "source": [
    "g = Graph()\n",
    "\n",
    "state_even = ['A', 'B', 'C', 'D', 'H', 'G', 'F', 'E']\n",
    "\n",
    "goal = ['A', 'B', 'C', 'D', 'E', 'F', 'G', 'H']\n",
    "\n",
    "l = []\n",
    "l.append(g.get_neighbors(state_even))\n",
    "\n",
    "print((goal, 1) in l[0])"
   ]
  },
  {
   "cell_type": "code",
   "execution_count": 13,
   "metadata": {},
   "outputs": [
    {
     "name": "stdout",
     "output_type": "stream",
     "text": [
      "['A', 'B', 'C', 'D', 'H', 'G', 'F', 'E']\n",
      "['A', 'B', 'C', 'D', 'E', 'F', 'G', 'H']\n",
      "\n",
      "Secret message is: 1\n"
     ]
    }
   ],
   "source": [
    "g = Graph()\n",
    "\n",
    "path_2 = g.bfs(['A', 'B', 'C', 'D', 'H', 'G', 'F', 'E'], ['A', 'B', 'C', 'D', 'E', 'F', 'G', 'H'])\n",
    "\n",
    "for state in path_2:\n",
    "    print(state)\n",
    "\n",
    "print()\n",
    "print('Secret message is: {}'.format(len(path_2) - 1))"
   ]
  },
  {
   "cell_type": "code",
   "execution_count": 9,
   "metadata": {},
   "outputs": [
    {
     "name": "stdout",
     "output_type": "stream",
     "text": [
      "['H', 'D', 'F', 'G', 'A', 'E', 'B', 'C']\n",
      "['H', 'D', 'A', 'G', 'F', 'E', 'B', 'C']\n",
      "['A', 'D', 'H', 'G', 'F', 'E', 'B', 'C']\n",
      "['A', 'D', 'C', 'B', 'E', 'F', 'G', 'H']\n",
      "['A', 'B', 'C', 'D', 'E', 'F', 'G', 'H']\n",
      "\n",
      "Secret message is: 4\n"
     ]
    }
   ],
   "source": [
    "g = Graph()\n",
    "\n",
    "path = g.bfs(['H', 'D', 'F', 'G', 'A', 'E', 'B', 'C'], ['A', 'B', 'C', 'D', 'E', 'F', 'G', 'H'])\n",
    "\n",
    "for state in path:\n",
    "    print(state)\n",
    "\n",
    "print()\n",
    "print('Secret message is: {}'.format(len(path) - 1))\n"
   ]
  },
  {
   "cell_type": "code",
   "execution_count": 10,
   "metadata": {},
   "outputs": [
    {
     "name": "stdout",
     "output_type": "stream",
     "text": [
      "[1, 2, 3, 4, 5]\n",
      "[5, 4, 3, 2, 1]\n",
      "[]\n",
      "[5, 4]\n"
     ]
    }
   ],
   "source": [
    "list = [1,2,3,4,5]\n",
    "print(list)\n",
    "print(list[::-1])\n",
    "print(list[2:4:-1])\n",
    "print(list[4:2:-1])"
   ]
  }
 ],
 "metadata": {
  "interpreter": {
   "hash": "7dababdbf713afda389b17bb72acdb77f64115e66cb27fea85ee07c8ab0f776a"
  },
  "kernelspec": {
   "display_name": "Python 3.9.1 64-bit ('ml': venv)",
   "name": "python3"
  },
  "language_info": {
   "codemirror_mode": {
    "name": "ipython",
    "version": 3
   },
   "file_extension": ".py",
   "mimetype": "text/x-python",
   "name": "python",
   "nbconvert_exporter": "python",
   "pygments_lexer": "ipython3",
   "version": "3.9.1"
  }
 },
 "nbformat": 4,
 "nbformat_minor": 4
}
