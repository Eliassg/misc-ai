{
  "nbformat": 4,
  "nbformat_minor": 0,
  "metadata": {
    "kernelspec": {
      "display_name": "Python 3",
      "name": "python3"
    },
    "language_info": {
      "name": "python"
    },
    "colab": {
      "name": "lab4_gunnarsson_eliassoevik.ipynb",
      "provenance": [],
      "collapsed_sections": []
    }
  },
  "cells": [
    {
      "cell_type": "markdown",
      "metadata": {
        "id": "8G6D0l2MVtld"
      },
      "source": [
        "# Lab assignment 4: CNNs and Autoencoders"
      ]
    },
    {
      "cell_type": "markdown",
      "metadata": {
        "id": "T3AXRlqsVtlg"
      },
      "source": [
        "In this assignment we will first train a CNN for the classification problem and then an encoder that learns representations of images of the `fashion_mnist` dataset."
      ]
    },
    {
      "cell_type": "markdown",
      "metadata": {
        "id": "Xw50J1VqVtlh"
      },
      "source": [
        "### Dataset `Fashion MNIST`\n",
        "\n",
        "This examples uses [Fashion MNIST](https://github.com/zalandoresearch/fashion-mnist) dataset which contains 70,000 grayscale images split into 10 categories. Each image contains one peace of clothing or footwear. \n",
        "Resolution of each image is $28 \\times 28$ pixels.\n",
        "\n",
        "<table>\n",
        "  <tr><td>\n",
        "    <img src=\"https://tensorflow.org/images/fashion-mnist-sprite.png\"\n",
        "         alt=\"Fashion MNIST sprite\"  width=\"600\">\n",
        "  </td></tr>\n",
        "  <tr><td align=\"center\">\n",
        "    <b>Image 1.</b> <a href=\"https://github.com/zalandoresearch/fashion-mnist\">Fashion-MNIST examples</a> (by Zalando, MIT License).<br/>&nbsp;\n",
        "  </td></tr>\n",
        "</table>\n",
        "\n",
        "Fashion MNIST is intended as a replacement for the traditional [MNIST](http://yann.lecun.com/exdb/mnist/) dataset that was previously often used as the first illustrative data set for classification (with images). `MNIST` contains images of handwritten numbers in a very similar format as previously described for `Fashion MNIST`.\n",
        "\n",
        "Fashion `MNIST` is a somewhat heavier set of data compared to `MNIST`, but both sets are extremely clean (no noise, deviations in the corners of the photo, relatively similar lighting), and solving the classification problem on them is not difficult.\n",
        "\n",
        "In this example, we will use $60000$ images to train the network, and the other $10000$ images to evaluate how accurately our network has classified the images.\n",
        "\n",
        "Since `Fashion MNIST` is a relatively well-known set that is often used, it is not uncommon for libraries to provide auxiliary functions for its download and use."
      ]
    },
    {
      "cell_type": "code",
      "metadata": {
        "id": "5ZeHaXQfVtli"
      },
      "source": [
        "import tensorflow as tf\n",
        "from tensorflow import keras\n",
        "\n",
        "from tensorflow.keras.datasets import fashion_mnist\n",
        "from tensorflow.keras import layers\n",
        "from tensorflow.keras.layers import Dense\n",
        "from tensorflow.keras.models import Sequential"
      ],
      "execution_count": 1,
      "outputs": []
    },
    {
      "cell_type": "code",
      "metadata": {
        "id": "kfO8hh9aVtlj"
      },
      "source": [
        "from sklearn import metrics\n",
        "import numpy as np\n",
        "import matplotlib.pyplot as plt"
      ],
      "execution_count": 2,
      "outputs": []
    },
    {
      "cell_type": "markdown",
      "metadata": {
        "id": "9Xt1eqwyVtlj"
      },
      "source": [
        "a) Using the `load_data` function from the `fashion_mnist` package, load images for the training set and the test set. Print the names of the available classes."
      ]
    },
    {
      "cell_type": "code",
      "metadata": {
        "id": "Q3UdFBJ7Vtlk"
      },
      "source": [
        "# Load the train_original and test data\n",
        "((x_data, y_data),(x_test, y_test)) = fashion_mnist.load_data()"
      ],
      "execution_count": 3,
      "outputs": []
    },
    {
      "cell_type": "code",
      "metadata": {
        "colab": {
          "base_uri": "https://localhost:8080/"
        },
        "id": "O4wksc4-Vtlk",
        "outputId": "63463ea2-6f55-4941-895a-c8d579228b0b"
      },
      "source": [
        "# Print the shape of your data\n",
        "x_data.shape\n",
        "y_data.shape\n",
        "x_test.shape\n",
        "x_test.shape"
      ],
      "execution_count": 4,
      "outputs": [
        {
          "output_type": "execute_result",
          "data": {
            "text/plain": [
              "(10000, 28, 28)"
            ]
          },
          "metadata": {},
          "execution_count": 4
        }
      ]
    },
    {
      "cell_type": "code",
      "metadata": {
        "colab": {
          "base_uri": "https://localhost:8080/"
        },
        "id": "Zfh_OJS0Vtlk",
        "outputId": "1852264e-199d-4f3e-d737-28d013cc34a3"
      },
      "source": [
        "# Class_names\n",
        "label_dict = {\n",
        "0:\t\"T-shirt/top\", \n",
        "1:\t\"Trouser\",\n",
        "2:\t\"Pullover\",\n",
        "3:\t\"Dress\",\n",
        "4:\t\"Coat\",\n",
        "5:\t\"Sandal\",\n",
        "6:\t\"Shirt\",\n",
        "7:\t\"Sneaker\",\n",
        "8:\t\"Bag\",\n",
        "9:\t\"Ankle boot\"\n",
        "}\n",
        "\n",
        "class_names = [val for val in label_dict.values()]\n",
        "print(class_names)"
      ],
      "execution_count": 5,
      "outputs": [
        {
          "output_type": "stream",
          "name": "stdout",
          "text": [
            "['T-shirt/top', 'Trouser', 'Pullover', 'Dress', 'Coat', 'Sandal', 'Shirt', 'Sneaker', 'Bag', 'Ankle boot']\n"
          ]
        }
      ]
    },
    {
      "cell_type": "markdown",
      "metadata": {
        "id": "PQ6qtW31Vtll"
      },
      "source": [
        "b) Select the first $30000$ images from the loaded set for training, and then the next $10000$ for validation."
      ]
    },
    {
      "cell_type": "code",
      "metadata": {
        "id": "ZhvyKr5eVtll"
      },
      "source": [
        "# Training data\n",
        "x_train = x_data[:30000]\n",
        "y_train = y_data[:30000]"
      ],
      "execution_count": 6,
      "outputs": []
    },
    {
      "cell_type": "code",
      "metadata": {
        "id": "pkc5XR55Vtll",
        "colab": {
          "base_uri": "https://localhost:8080/"
        },
        "outputId": "26abeb72-feeb-45b0-89fb-175d639b37e1"
      },
      "source": [
        "# Shape of the train data\n",
        "print(x_train.shape)\n",
        "print(y_train.shape)"
      ],
      "execution_count": 7,
      "outputs": [
        {
          "output_type": "stream",
          "name": "stdout",
          "text": [
            "(30000, 28, 28)\n",
            "(30000,)\n"
          ]
        }
      ]
    },
    {
      "cell_type": "code",
      "metadata": {
        "id": "0InZqtmvVtlm",
        "colab": {
          "base_uri": "https://localhost:8080/"
        },
        "outputId": "d295de2e-7159-41c6-b079-21c45709a530"
      },
      "source": [
        "# Check the number of categories in the training dataset\n",
        "\n",
        "num_classes = len(np.unique(y_train))\n",
        "print(num_classes)"
      ],
      "execution_count": 8,
      "outputs": [
        {
          "output_type": "stream",
          "name": "stdout",
          "text": [
            "10\n"
          ]
        }
      ]
    },
    {
      "cell_type": "code",
      "metadata": {
        "id": "6aWyXRreVtlm"
      },
      "source": [
        "# Validation data\n",
        "x_val = x_data[30000:40000]\n",
        "y_val = y_data[30000:40000]"
      ],
      "execution_count": 9,
      "outputs": []
    },
    {
      "cell_type": "code",
      "metadata": {
        "id": "nSauph6BVtlm",
        "colab": {
          "base_uri": "https://localhost:8080/"
        },
        "outputId": "4e4905aa-151e-4358-a687-e2b76c9342a9"
      },
      "source": [
        "# Shape of the validation data\n",
        "print(x_val.shape)\n",
        "print(y_val.shape)"
      ],
      "execution_count": 10,
      "outputs": [
        {
          "output_type": "stream",
          "name": "stdout",
          "text": [
            "(10000, 28, 28)\n",
            "(10000,)\n"
          ]
        }
      ]
    },
    {
      "cell_type": "code",
      "metadata": {
        "id": "O19jjVKEVtlm",
        "colab": {
          "base_uri": "https://localhost:8080/"
        },
        "outputId": "51c961c3-7033-4331-9cec-fb58830c3aa2"
      },
      "source": [
        "# Check the number of categories in the validation dataset\n",
        "print(len(np.unique(y_val)))"
      ],
      "execution_count": 11,
      "outputs": [
        {
          "output_type": "stream",
          "name": "stdout",
          "text": [
            "10\n"
          ]
        }
      ]
    },
    {
      "cell_type": "code",
      "metadata": {
        "id": "wxLSMKJeVtln",
        "colab": {
          "base_uri": "https://localhost:8080/"
        },
        "outputId": "7a332567-11d6-4c2e-c809-a50ed6be90c3"
      },
      "source": [
        "# Check the shape of the test set\n",
        "print(x_test.shape)\n",
        "print(y_test.shape)"
      ],
      "execution_count": 12,
      "outputs": [
        {
          "output_type": "stream",
          "name": "stdout",
          "text": [
            "(10000, 28, 28)\n",
            "(10000,)\n"
          ]
        }
      ]
    },
    {
      "cell_type": "markdown",
      "metadata": {
        "id": "DfSQXP9hVtln"
      },
      "source": [
        "c) Transform the loaded images into `float32` type, and then normalize them. As it is necessary to transform labels (arrays of numbers) into a form that is suitable for calculating the error (categorical cross entropy), use an auxiliary function `keras.utils.to_categorical` to do so."
      ]
    },
    {
      "cell_type": "code",
      "metadata": {
        "id": "MdW2QN9kVtln"
      },
      "source": [
        "# Prepare the data\n",
        "# Transform to float\n",
        "x_train = x_train.astype('float32')\n",
        "x_val = x_val.astype('float32')\n",
        "x_test = x_test.astype('float32')\n",
        "\n",
        "# Normalize \n",
        "x_train = x_train / 255.0\n",
        "x_val = x_val / 255.0\n",
        "x_test = x_test / 255.0"
      ],
      "execution_count": 13,
      "outputs": []
    },
    {
      "cell_type": "code",
      "metadata": {
        "id": "yMZECVxUVtln"
      },
      "source": [
        "# Prepare the labels\n",
        "y_train = keras.utils.to_categorical(y_train, num_classes)\n",
        "y_val = keras.utils.to_categorical(y_val, num_classes)\n",
        "y_test = keras.utils.to_categorical(y_test, num_classes)"
      ],
      "execution_count": 14,
      "outputs": []
    },
    {
      "cell_type": "markdown",
      "metadata": {
        "id": "NDBhCf_wVtlo"
      },
      "source": [
        "## Part 1: CNN"
      ]
    },
    {
      "cell_type": "markdown",
      "metadata": {
        "id": "dDWNqj7yVtlo"
      },
      "source": [
        "(d) Create a fully connected neural network with the following properties:\n",
        "\n",
        "- Since the input is an image of the form $(28,28)$, it is necessary to transform it into a shape that a fully connected network can accept. At the beginning, add a layer that does exactly such a transformation.\n",
        "\n",
        "- Next, define a fully connected layer with $128$  neurons and `ReLu` activation function. \n",
        "\n",
        "- Finally, define the next fully connected layer with  $10$  neurons and `softmax` activation function."
      ]
    },
    {
      "cell_type": "code",
      "metadata": {
        "id": "Rw1hDBCzVtlo"
      },
      "source": [
        "model = Sequential()\n",
        "model.add(layers.Flatten(input_shape=(28, 28)))\n",
        "model.add(layers.Dense(128, activation='relu'))\n",
        "model.add(Dense(10, activation='softmax'))"
      ],
      "execution_count": 15,
      "outputs": []
    },
    {
      "cell_type": "markdown",
      "metadata": {
        "id": "uRCM6eGMVtlo"
      },
      "source": [
        "(e) Train the previously defined network in $10$ epochs with the batch size equal to $32$. For the error, use categorical cross entropy, other parameters you may choose arbitrarily. Create a textual summary of your model."
      ]
    },
    {
      "cell_type": "code",
      "metadata": {
        "id": "QQX_lZ3sVtlo"
      },
      "source": [
        "# Compile the model\n",
        "epochs = 10\n",
        "batch_size = 32\n",
        "num_classes = 10\n",
        "\n",
        "\n",
        "model.compile(optimizer='adam',\n",
        "              loss=tf.keras.losses.CategoricalCrossentropy(),\n",
        "              metrics=['accuracy'])"
      ],
      "execution_count": 16,
      "outputs": []
    },
    {
      "cell_type": "code",
      "metadata": {
        "id": "DeFaXVwmVtlp",
        "colab": {
          "base_uri": "https://localhost:8080/"
        },
        "outputId": "9afaa140-d780-44a8-ac62-3ec88ba64b60"
      },
      "source": [
        "# Textual summary of the model\n",
        "model.summary()"
      ],
      "execution_count": 17,
      "outputs": [
        {
          "output_type": "stream",
          "name": "stdout",
          "text": [
            "Model: \"sequential\"\n",
            "_________________________________________________________________\n",
            " Layer (type)                Output Shape              Param #   \n",
            "=================================================================\n",
            " flatten (Flatten)           (None, 784)               0         \n",
            "                                                                 \n",
            " dense (Dense)               (None, 128)               100480    \n",
            "                                                                 \n",
            " dense_1 (Dense)             (None, 10)                1290      \n",
            "                                                                 \n",
            "=================================================================\n",
            "Total params: 101,770\n",
            "Trainable params: 101,770\n",
            "Non-trainable params: 0\n",
            "_________________________________________________________________\n"
          ]
        }
      ]
    },
    {
      "cell_type": "code",
      "metadata": {
        "id": "vHDllCmQVtlp",
        "colab": {
          "base_uri": "https://localhost:8080/"
        },
        "outputId": "b218b254-7d4e-4f15-cfdb-274a81838be9"
      },
      "source": [
        "# Train the model\n",
        "history = model.fit(x_train, y_train, epochs=epochs,\n",
        "                    batch_size=batch_size,  validation_data=(x_val, y_val))"
      ],
      "execution_count": 18,
      "outputs": [
        {
          "output_type": "stream",
          "name": "stdout",
          "text": [
            "Epoch 1/10\n",
            "938/938 [==============================] - 3s 3ms/step - loss: 0.5728 - accuracy: 0.7999 - val_loss: 0.4582 - val_accuracy: 0.8423\n",
            "Epoch 2/10\n",
            "938/938 [==============================] - 3s 3ms/step - loss: 0.4186 - accuracy: 0.8513 - val_loss: 0.4525 - val_accuracy: 0.8388\n",
            "Epoch 3/10\n",
            "938/938 [==============================] - 3s 3ms/step - loss: 0.3746 - accuracy: 0.8643 - val_loss: 0.3857 - val_accuracy: 0.8641\n",
            "Epoch 4/10\n",
            "938/938 [==============================] - 3s 3ms/step - loss: 0.3436 - accuracy: 0.8727 - val_loss: 0.3541 - val_accuracy: 0.8720\n",
            "Epoch 5/10\n",
            "938/938 [==============================] - 2s 3ms/step - loss: 0.3230 - accuracy: 0.8807 - val_loss: 0.3706 - val_accuracy: 0.8668\n",
            "Epoch 6/10\n",
            "938/938 [==============================] - 2s 3ms/step - loss: 0.3039 - accuracy: 0.8874 - val_loss: 0.3472 - val_accuracy: 0.8767\n",
            "Epoch 7/10\n",
            "938/938 [==============================] - 3s 3ms/step - loss: 0.2882 - accuracy: 0.8929 - val_loss: 0.3520 - val_accuracy: 0.8743\n",
            "Epoch 8/10\n",
            "938/938 [==============================] - 3s 3ms/step - loss: 0.2747 - accuracy: 0.8970 - val_loss: 0.3728 - val_accuracy: 0.8689\n",
            "Epoch 9/10\n",
            "938/938 [==============================] - 2s 3ms/step - loss: 0.2623 - accuracy: 0.9013 - val_loss: 0.3422 - val_accuracy: 0.8829\n",
            "Epoch 10/10\n",
            "938/938 [==============================] - 3s 3ms/step - loss: 0.2533 - accuracy: 0.9046 - val_loss: 0.3219 - val_accuracy: 0.8888\n"
          ]
        }
      ]
    },
    {
      "cell_type": "markdown",
      "metadata": {
        "id": "DIq-PDCmVtlp"
      },
      "source": [
        "(f) Plot accuracy on the training and validation datasets over training epochs. Add a legend."
      ]
    },
    {
      "cell_type": "code",
      "metadata": {
        "id": "4nRQaK0_Vtlp",
        "colab": {
          "base_uri": "https://localhost:8080/",
          "height": 515
        },
        "outputId": "83624b65-cb1a-4977-de2f-85f3f4dd4f9c"
      },
      "source": [
        "# Plot\n",
        "acc = history.history['accuracy']\n",
        "val_acc = history.history['val_accuracy']\n",
        "\n",
        "loss=history.history['loss']\n",
        "val_loss=history.history['val_loss']\n",
        "\n",
        "epochs_range = range(epochs)\n",
        "\n",
        "plt.figure(figsize=(14, 8))\n",
        "plt.plot(epochs_range, acc, label='Training Accuracy')\n",
        "plt.plot(epochs_range, val_acc, label='Validation Accuracy')\n",
        "plt.legend(loc='lower right')\n",
        "plt.title('Training and Validation Accuracy')"
      ],
      "execution_count": 19,
      "outputs": [
        {
          "output_type": "execute_result",
          "data": {
            "text/plain": [
              "Text(0.5, 1.0, 'Training and Validation Accuracy')"
            ]
          },
          "metadata": {},
          "execution_count": 19
        },
        {
          "output_type": "display_data",
          "data": {
            "image/png": "[encoded data removed]",
            "text/plain": [
              "<Figure size 1008x576 with 1 Axes>"
            ]
          },
          "metadata": {
            "needs_background": "light"
          }
        }
      ]
    },
    {
      "cell_type": "markdown",
      "metadata": {
        "id": "4SOSU6SrVtlq"
      },
      "source": [
        "## Part 2: Autoencoder"
      ]
    },
    {
      "cell_type": "markdown",
      "metadata": {
        "id": "RwT1G1fhVtlq"
      },
      "source": [
        "(g) Create an autoencoder network with the following properties:\n",
        "- the encoder consists of a first layer that corrects the loaded image (transforms it into the right shape) and one dense layer of latent dimension $64$ with the `ReLu` activation function,\n",
        "- the decoder consists of a dense layer of dimension $784$ with `sigmoid` activation function and a layer that transforms the image to the initial dimension. \n",
        "\n",
        "Use the `adam` optimizer and `mse` error as a loss function."
      ]
    },
    {
      "cell_type": "code",
      "metadata": {
        "id": "Ob7VijEDVtlq"
      },
      "source": [
        "# Latent dimension\n",
        "latent_dim = 64"
      ],
      "execution_count": 20,
      "outputs": []
    },
    {
      "cell_type": "code",
      "metadata": {
        "id": "0TLTMawpVtlq"
      },
      "source": [
        "# encoder_decoder model definition (sequential)\n",
        "encoder_decoder = Sequential()\n",
        "encoder_decoder.add(layers.Flatten(input_shape=(28, 28)))\n",
        "encoder_decoder.add(layers.Dense(64, activation='relu'))\n",
        "encoder_decoder.add(layers.Dense(784, activation='sigmoid'))\n",
        "encoder_decoder.add(layers.Reshape((28, 28)))\n"
      ],
      "execution_count": 21,
      "outputs": []
    },
    {
      "cell_type": "code",
      "metadata": {
        "id": "_Xip50tzVtlq"
      },
      "source": [
        "# Compile the model\n",
        "encoder_decoder.compile(optimizer='adam',\n",
        "              loss=tf.keras.losses.mse)"
      ],
      "execution_count": 22,
      "outputs": []
    },
    {
      "cell_type": "code",
      "source": [
        "encoder_decoder.summary()"
      ],
      "metadata": {
        "colab": {
          "base_uri": "https://localhost:8080/"
        },
        "id": "RgBwCGVuinMF",
        "outputId": "38f0b21e-ae74-4945-9abd-811071410165"
      },
      "execution_count": 23,
      "outputs": [
        {
          "output_type": "stream",
          "name": "stdout",
          "text": [
            "Model: \"sequential_1\"\n",
            "_________________________________________________________________\n",
            " Layer (type)                Output Shape              Param #   \n",
            "=================================================================\n",
            " flatten_1 (Flatten)         (None, 784)               0         \n",
            "                                                                 \n",
            " dense_2 (Dense)             (None, 64)                50240     \n",
            "                                                                 \n",
            " dense_3 (Dense)             (None, 784)               50960     \n",
            "                                                                 \n",
            " reshape (Reshape)           (None, 28, 28)            0         \n",
            "                                                                 \n",
            "=================================================================\n",
            "Total params: 101,200\n",
            "Trainable params: 101,200\n",
            "Non-trainable params: 0\n",
            "_________________________________________________________________\n"
          ]
        }
      ]
    },
    {
      "cell_type": "markdown",
      "metadata": {
        "id": "GV4YQLZ1Vtlr"
      },
      "source": [
        "(h) Train the network in $10$ epochs. Set the `shuffle` parameter to True. Set the `batch_size` to $32$."
      ]
    },
    {
      "cell_type": "code",
      "metadata": {
        "id": "GFM92TJJVtlr",
        "colab": {
          "base_uri": "https://localhost:8080/"
        },
        "outputId": "1959dc03-f73c-4e2a-c95f-e787d32232e3"
      },
      "source": [
        "# Train\n",
        "epochs = 10\n",
        "batch_size = 32\n",
        "num_classes = 10\n",
        "\n",
        "history = encoder_decoder.fit(x_train, x_train, epochs=epochs,\n",
        "                    batch_size=batch_size,  validation_data=(x_val, x_val), shuffle = True)\n"
      ],
      "execution_count": 24,
      "outputs": [
        {
          "output_type": "stream",
          "name": "stdout",
          "text": [
            "Epoch 1/10\n",
            "938/938 [==============================] - 3s 3ms/step - loss: 0.0322 - val_loss: 0.0183\n",
            "Epoch 2/10\n",
            "938/938 [==============================] - 3s 3ms/step - loss: 0.0153 - val_loss: 0.0133\n",
            "Epoch 3/10\n",
            "938/938 [==============================] - 3s 3ms/step - loss: 0.0123 - val_loss: 0.0115\n",
            "Epoch 4/10\n",
            "938/938 [==============================] - 3s 3ms/step - loss: 0.0110 - val_loss: 0.0106\n",
            "Epoch 5/10\n",
            "938/938 [==============================] - 3s 3ms/step - loss: 0.0103 - val_loss: 0.0101\n",
            "Epoch 6/10\n",
            "938/938 [==============================] - 3s 3ms/step - loss: 0.0099 - val_loss: 0.0097\n",
            "Epoch 7/10\n",
            "938/938 [==============================] - 3s 3ms/step - loss: 0.0096 - val_loss: 0.0095\n",
            "Epoch 8/10\n",
            "938/938 [==============================] - 3s 3ms/step - loss: 0.0094 - val_loss: 0.0098\n",
            "Epoch 9/10\n",
            "938/938 [==============================] - 3s 3ms/step - loss: 0.0093 - val_loss: 0.0093\n",
            "Epoch 10/10\n",
            "938/938 [==============================] - 3s 3ms/step - loss: 0.0092 - val_loss: 0.0092\n"
          ]
        }
      ]
    },
    {
      "cell_type": "markdown",
      "metadata": {
        "id": "aKPucAIpVtlr"
      },
      "source": [
        "(i) Plot loss on the training and validation datasets over training epochs. Add a legend."
      ]
    },
    {
      "cell_type": "code",
      "metadata": {
        "id": "aiz0BWrXVtlr",
        "colab": {
          "base_uri": "https://localhost:8080/",
          "height": 281
        },
        "outputId": "2cdd42b1-1e62-4923-e4e2-bcdfb719be74"
      },
      "source": [
        "# Plot\n",
        "loss=history.history['loss']\n",
        "val_loss=history.history['val_loss']\n",
        "\n",
        "epochs_range = range(epochs)\n",
        "\n",
        "plt.plot(epochs_range, loss, label='Training Loss')\n",
        "plt.plot(epochs_range, val_loss, label='Validation Loss')\n",
        "plt.legend(loc='upper right')\n",
        "plt.title('Training and Validation Loss')\n",
        "plt.show()"
      ],
      "execution_count": 25,
      "outputs": [
        {
          "output_type": "display_data",
          "data": {
            "image/png": "[encoded data removed]",
            "text/plain": [
              "<Figure size 432x288 with 1 Axes>"
            ]
          },
          "metadata": {
            "needs_background": "light"
          }
        }
      ]
    },
    {
      "cell_type": "markdown",
      "metadata": {
        "id": "zNd3JNV9Vtlr"
      },
      "source": [
        "(j) Show for an arbitrary image of the test set how the autoencoder works. In other words, plot an arbitrary original and  predicted image from the test set."
      ]
    },
    {
      "cell_type": "code",
      "metadata": {
        "id": "5Bz2q2nJVtlr"
      },
      "source": [
        "# Predictions\n",
        "x_decoded = encoder_decoder.predict(x_test)"
      ],
      "execution_count": 26,
      "outputs": []
    },
    {
      "cell_type": "code",
      "metadata": {
        "id": "j3R_w70kVtls"
      },
      "source": [
        "# Arbitrary image chosen for prediction\n",
        "pred_image = x_decoded[0]\n",
        "image = x_test[0]"
      ],
      "execution_count": 31,
      "outputs": []
    },
    {
      "cell_type": "code",
      "metadata": {
        "id": "pbBWRFYeVtls",
        "colab": {
          "base_uri": "https://localhost:8080/",
          "height": 280
        },
        "outputId": "bb89e732-afce-4af3-91a8-47f3ad05ba40"
      },
      "source": [
        "# Plot the prediction\n",
        "pred_image = (pred_image * 255).astype(np.uint8)\n",
        "plt.title('Predicted image')\n",
        "plt.axis('off')\n",
        "plt.imshow(pred_image, interpolation='none', cmap='gray')"
      ],
      "execution_count": 34,
      "outputs": [
        {
          "output_type": "execute_result",
          "data": {
            "text/plain": [
              "<matplotlib.image.AxesImage at 0x7f5f7cd9bbd0>"
            ]
          },
          "metadata": {},
          "execution_count": 34
        },
        {
          "output_type": "display_data",
          "data": {
            "image/png": "[encoded data removed]",
            "text/plain": [
              "<Figure size 432x288 with 1 Axes>"
            ]
          },
          "metadata": {
            "needs_background": "light"
          }
        }
      ]
    },
    {
      "cell_type": "code",
      "metadata": {
        "id": "SW_v5-L8Vtls",
        "colab": {
          "base_uri": "https://localhost:8080/",
          "height": 280
        },
        "outputId": "0048adf4-3ac5-4553-dcd7-568984b03698"
      },
      "source": [
        "# Plot the original image\n",
        "image = (image * 255).astype(np.uint8)\n",
        "plt.title('Original image')\n",
        "plt.axis('off')\n",
        "plt.imshow(image, interpolation='none', cmap='gray')"
      ],
      "execution_count": 35,
      "outputs": [
        {
          "output_type": "execute_result",
          "data": {
            "text/plain": [
              "<matplotlib.image.AxesImage at 0x7f5f7ccfa990>"
            ]
          },
          "metadata": {},
          "execution_count": 35
        },
        {
          "output_type": "display_data",
          "data": {
            "image/png": "[encoded data removed]",
            "text/plain": [
              "<Figure size 432x288 with 1 Axes>"
            ]
          },
          "metadata": {
            "needs_background": "light"
          }
        }
      ]
    },
    {
      "cell_type": "markdown",
      "metadata": {
        "id": "Wx9z17XxVtls"
      },
      "source": [
        "(k) Calculate the `mse` error for the autoencoder on the test set. You can use the `evaluate` function."
      ]
    },
    {
      "cell_type": "code",
      "metadata": {
        "id": "HLnkAUWQVtls",
        "colab": {
          "base_uri": "https://localhost:8080/"
        },
        "outputId": "41068435-066a-4c85-ea7a-7050449bba49"
      },
      "source": [
        "# MSE error\n",
        "encoder_decoder.evaluate(x_decoded, x_test, batch_size=batch_size)"
      ],
      "execution_count": 42,
      "outputs": [
        {
          "output_type": "stream",
          "name": "stdout",
          "text": [
            "313/313 [==============================] - 0s 1ms/step - loss: 0.0122\n"
          ]
        },
        {
          "output_type": "execute_result",
          "data": {
            "text/plain": [
              "0.012223501689732075"
            ]
          },
          "metadata": {},
          "execution_count": 42
        }
      ]
    }
  ]
}