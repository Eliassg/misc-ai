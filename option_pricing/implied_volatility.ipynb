{
 "cells": [
  {
   "cell_type": "code",
   "execution_count": 104,
   "metadata": {},
   "outputs": [],
   "source": [
    "from math import pi\n",
    "from scipy.stats import norm\n",
    "import numpy as np\n",
    "import pandas as pd\n",
    "import matplotlib.pyplot as plt \n",
    "import random"
   ]
  },
  {
   "cell_type": "code",
   "execution_count": 105,
   "metadata": {},
   "outputs": [],
   "source": [
    "def d1(S, K, T, r, q, sigma) -> float:\n",
    "    ''' Calculation of conditional probability d1.\n",
    "\n",
    "    Keyword arguments: \n",
    "    S -- Stock price at time zero\n",
    "    K -- Option exercise price \n",
    "    T -- Time to maturity (in years)\n",
    "    r -- Continuously compounded annual interest rate\n",
    "    q -- Annual continuous dividend yield\n",
    "    sigma -- Volatility \n",
    "    '''\n",
    "    return(np.log(S/K) + (r - q + sigma ** 2/2.) * T)/(sigma * np.sqrt(T))\n",
    "\n",
    "def d2(S, K, T, r, q, sigma) -> float:\n",
    "    ''' Calculation of probability of option to expire\n",
    "        in the money, d2.\n",
    "\n",
    "    Keyword arguments: \n",
    "    S -- Stock price at time zero\n",
    "    K -- Option exercise price \n",
    "    T -- Time to maturity (in years)\n",
    "    r -- Continuously compounded annual interest rate\n",
    "    q -- Annual continuous dividend yield\n",
    "    sigma -- Volatility \n",
    "    '''\n",
    "    return d1(S, K, T, r, q, sigma) - sigma * np.sqrt(T)"
   ]
  },
  {
   "cell_type": "code",
   "execution_count": 106,
   "metadata": {},
   "outputs": [],
   "source": [
    "def black_scholes(S, K, T, r, q, sigma, flag = 'c') -> float:\n",
    "    ''' Calculates the price of European call and put options.\n",
    "\n",
    "    Keyword arguments: \n",
    "    S -- Stock price at time zero\n",
    "    K -- Option exercise price \n",
    "    T -- Time to maturity (in years)\n",
    "    r -- Continuously compounded annual interest rate\n",
    "    q -- Annual continuous dividend yield\n",
    "    sigma -- Volatility\n",
    "    flag -- 'c' for call and 'p' for put (default = call) \n",
    "    '''\n",
    "    if flag == 'c':\n",
    "        return (S * np.exp(-q * T) * norm.cdf(d1(S, K, T, r, q, sigma))\n",
    "                -K * np.exp(-r * T) * norm.cdf(d2(S, K, T, r, q, sigma)))\n",
    "    else:\n",
    "        return (K * np.exp(-r * T) * norm.cdf(-d2(S, K, T, r, q, sigma))\n",
    "                -S * np.exp(-q * T) * norm.cdf(-d1(S, K, T, r, q, sigma)))"
   ]
  },
  {
   "cell_type": "code",
   "execution_count": 107,
   "metadata": {},
   "outputs": [
    {
     "data": {
      "text/plain": [
       "15.006050828339738"
      ]
     },
     "execution_count": 107,
     "metadata": {},
     "output_type": "execute_result"
    }
   ],
   "source": [
    "black_scholes(150, 155, 1, 0.05, 0.01, 0.2639, 'p')\n"
   ]
  },
  {
   "cell_type": "code",
   "execution_count": 108,
   "metadata": {},
   "outputs": [],
   "source": [
    "def ISD(S, C, T) -> float:\n",
    "    return np.sqrt(2 * pi/T) * (C/S)"
   ]
  },
  {
   "cell_type": "code",
   "execution_count": 109,
   "metadata": {},
   "outputs": [
    {
     "name": "stdout",
     "output_type": "stream",
     "text": [
      "Implied volatility:  25.07%\n"
     ]
    },
    {
     "data": {
      "text/plain": [
       "15.006050828339738"
      ]
     },
     "execution_count": 109,
     "metadata": {},
     "output_type": "execute_result"
    }
   ],
   "source": [
    "isd = ISD(150,15,1)\n",
    "print('Implied volatility: ', \"{:.2%}\".format(isd))\n",
    "black_scholes(150, 155, 1, 0.05, 0.01, 0.2639, 'p')"
   ]
  },
  {
   "cell_type": "code",
   "execution_count": 110,
   "metadata": {},
   "outputs": [],
   "source": [
    "def Vega(S, K, T, r, q, sigma) -> float:\n",
    "    ''' Calculates Vega.\n",
    "\n",
    "    Keyword arguments: \n",
    "    S -- Stock price at time zero\n",
    "    K -- Option exercise price \n",
    "    T -- Time to maturity (in years)\n",
    "    r -- Continuously compounded annual interest rate\n",
    "    q -- Annual continuous dividend yield\n",
    "    sigma -- Volatility\n",
    "    '''\n",
    "    return S * norm.pdf(d1(S, K, T, r, q, sigma), 0, 1) * np.sqrt(T) * np.exp(-q * T)"
   ]
  },
  {
   "cell_type": "code",
   "execution_count": 111,
   "metadata": {},
   "outputs": [],
   "source": [
    "def implied_volatility(S, K, T, C, r, q, flag = 'c', sigma = 0.30,  tol = 1e-5) -> float:\n",
    "    ''' Estimates the implied volatility for a European option.\n",
    "\n",
    "    Keyword arguments: \n",
    "    S -- Stock price at time zero\n",
    "    K -- Option exercise price \n",
    "    T -- Time to maturity (in years)\n",
    "    C -- Market price of option\n",
    "    r -- Continuously compounded annual interest rate\n",
    "    q -- Annual continuous dividend yield\n",
    "    flag -- 'c' for call and 'p' for put (default = call)\n",
    "    sigma -- Initial guess for implied volatility (default = 0.30)\n",
    "    tol -- error tolerance (default = 1e-5)\n",
    "    '''\n",
    "    for _ in range(1000):\n",
    "        sigma_new = sigma - ((black_scholes(S, K, T, r, q, sigma, flag) - C)\n",
    "                            / Vega(S , K, T, r, q, sigma))\n",
    "        if np.all(abs(sigma_new - sigma) < tol): \n",
    "            break\n",
    "        sigma = sigma_new\n",
    "    return sigma"
   ]
  },
  {
   "cell_type": "code",
   "execution_count": 112,
   "metadata": {},
   "outputs": [
    {
     "name": "stdout",
     "output_type": "stream",
     "text": [
      "Implied volatility:  26.38%\n",
      "Verifying market option value with BS and implied volatility:  15.00 $\n"
     ]
    }
   ],
   "source": [
    "implied_vol = implied_volatility(150, 155, 1, 15 ,0.05, 0.01, 'p')\n",
    "\n",
    "print('Implied volatility: ', \"{:.2%}\".format(implied_vol))\n",
    "\n",
    "print('Verifying market option value with BS and implied volatility: ', \"{:.2f}\".format(black_scholes(150, 155, 1.0, 0.05, 0.01, implied_vol, 'p')), '$')\n"
   ]
  },
  {
   "cell_type": "code",
   "execution_count": 113,
   "metadata": {},
   "outputs": [
    {
     "name": "stdout",
     "output_type": "stream",
     "text": [
      "Vega:  58.51\n"
     ]
    }
   ],
   "source": [
    "vega = Vega(150, 155, 1, 0.05, 0.01, 0.26)\n",
    "\n",
    "print('Vega: ', \"{:.2f}\".format(vega))"
   ]
  },
  {
   "cell_type": "code",
   "execution_count": 114,
   "metadata": {},
   "outputs": [],
   "source": [
    "df = pd.read_csv('Task1cd_puts.csv', delimiter=\";\", header=0)\n",
    "puts = np.array(df)\n",
    "strikes, prices = puts[:,0], puts[:, 1]\n",
    "iv = implied_volatility(150, strikes, 1, prices, 0.05, 0.01, 'put')\n",
    "vegas = Vega(150, strikes, 1, 0.05, 0.01, iv)"
   ]
  },
  {
   "cell_type": "code",
   "execution_count": 115,
   "metadata": {},
   "outputs": [
    {
     "data": {
      "image/png": "[encoded data removed]",
      "text/plain": [
       "<Figure size 432x288 with 1 Axes>"
      ]
     },
     "metadata": {
      "needs_background": "light"
     },
     "output_type": "display_data"
    }
   ],
   "source": [
    "plt.plot(strikes, iv, color = 'indianred')\n",
    "plt.xlabel(\"Strike price ($)\")\n",
    "plt.ylabel(\"Implied volatility (%)\")\n",
    "plt.title(\"Implied volatility as a function of strike price\")\n",
    "#plt.savefig('implied_volatility.pdf')\n",
    "plt.show()"
   ]
  },
  {
   "cell_type": "code",
   "execution_count": 116,
   "metadata": {},
   "outputs": [
    {
     "data": {
      "image/png": "[encoded data removed]",
      "text/plain": [
       "<Figure size 432x288 with 1 Axes>"
      ]
     },
     "metadata": {
      "needs_background": "light"
     },
     "output_type": "display_data"
    }
   ],
   "source": [
    "plt.plot(strikes, vegas, color = 'green')\n",
    "plt.xlabel(\"Strike price ($)\")\n",
    "plt.ylabel(\"Vega\")\n",
    "plt.title(\"Vega plotted for different strike prices\")\n",
    "plt.savefig('vega.pdf') \n",
    "plt.show()"
   ]
  },
  {
   "cell_type": "code",
   "execution_count": 117,
   "metadata": {},
   "outputs": [
    {
     "data": {
      "text/plain": [
       "10.017080535490749"
      ]
     },
     "execution_count": 117,
     "metadata": {},
     "output_type": "execute_result"
    }
   ],
   "source": [
    "res = black_scholes(100, 100, 3, 0.04, 0.02, 0.20, 'p')\n",
    "res"
   ]
  },
  {
   "cell_type": "code",
   "execution_count": 126,
   "metadata": {},
   "outputs": [
    {
     "data": {
      "image/png": "[encoded data removed]",
      "text/plain": [
       "<Figure size 432x288 with 1 Axes>"
      ]
     },
     "metadata": {
      "needs_background": "light"
     },
     "output_type": "display_data"
    }
   ],
   "source": [
    "plt.scatter(strikes, prices, color = 'indianred')\n",
    "plt.xlabel(\"Strike price ($)\")\n",
    "plt.ylabel(\"Put option price ($)\")\n",
    "plt.title(\"Strikes and prices of put options\")\n",
    "plt.savefig('puts.pdf')\n",
    "plt.show()"
   ]
  }
 ],
 "metadata": {
  "interpreter": {
   "hash": "d8d9b7c5796d4a49284a6919f1cae677c7f985ddb1021cb8534a76a814c7554c"
  },
  "kernelspec": {
   "display_name": "Python 3.8.12 ('condaml')",
   "language": "python",
   "name": "python3"
  },
  "language_info": {
   "codemirror_mode": {
    "name": "ipython",
    "version": 3
   },
   "file_extension": ".py",
   "mimetype": "text/x-python",
   "name": "python",
   "nbconvert_exporter": "python",
   "pygments_lexer": "ipython3",
   "version": "3.8.12"
  },
  "orig_nbformat": 4
 },
 "nbformat": 4,
 "nbformat_minor": 2
}
