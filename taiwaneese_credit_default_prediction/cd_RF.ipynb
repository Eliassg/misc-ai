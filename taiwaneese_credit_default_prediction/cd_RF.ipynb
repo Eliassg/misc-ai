{
 "cells": [
  {
   "cell_type": "code",
   "execution_count": 192,
   "metadata": {},
   "outputs": [],
   "source": [
    "import sklearn\n",
    "import numpy as np\n",
    "import pandas as pd\n",
    "import csv\n",
    "import pickle\n",
    "import time\n",
    "import os\n",
    "import matplotlib.pyplot as plt\n",
    "import seaborn as sns\n",
    "\n",
    "%matplotlib inline\n",
    "\n",
    "from sklearn.preprocessing import LabelEncoder\n",
    "from sklearn.pipeline import Pipeline\n",
    "from sklearn.model_selection import KFold, GridSearchCV\n",
    "from sklearn.model_selection import train_test_split\n",
    "from sklearn import metrics\n",
    "from sklearn.ensemble import AdaBoostClassifier, RandomForestClassifier"
   ]
  },
  {
   "cell_type": "markdown",
   "metadata": {},
   "source": [
    "Read the data"
   ]
  },
  {
   "cell_type": "code",
   "execution_count": 193,
   "metadata": {},
   "outputs": [],
   "source": [
    "df = pd.read_excel('default of credit card clients.xls', index_col = 0, header = 1)"
   ]
  },
  {
   "cell_type": "code",
   "execution_count": 194,
   "metadata": {},
   "outputs": [],
   "source": [
    "df.rename(columns={'default payment next month':'default'}, inplace=True)"
   ]
  },
  {
   "cell_type": "markdown",
   "metadata": {},
   "source": [
    "Encoding categorical data"
   ]
  },
  {
   "cell_type": "code",
   "execution_count": 195,
   "metadata": {},
   "outputs": [
    {
     "data": {
      "text/html": [
       "<div>\n",
       "<style scoped>\n",
       "    .dataframe tbody tr th:only-of-type {\n",
       "        vertical-align: middle;\n",
       "    }\n",
       "\n",
       "    .dataframe tbody tr th {\n",
       "        vertical-align: top;\n",
       "    }\n",
       "\n",
       "    .dataframe thead th {\n",
       "        text-align: right;\n",
       "    }\n",
       "</style>\n",
       "<table border=\"1\" class=\"dataframe\">\n",
       "  <thead>\n",
       "    <tr style=\"text-align: right;\">\n",
       "      <th></th>\n",
       "      <th>EDUCATION_0</th>\n",
       "      <th>EDUCATION_1</th>\n",
       "      <th>EDUCATION_2</th>\n",
       "      <th>EDUCATION_3</th>\n",
       "      <th>EDUCATION_4</th>\n",
       "      <th>EDUCATION_5</th>\n",
       "      <th>EDUCATION_6</th>\n",
       "      <th>SEX_1</th>\n",
       "      <th>SEX_2</th>\n",
       "      <th>MARRIAGE_0</th>\n",
       "      <th>...</th>\n",
       "      <th>BILL_AMT4</th>\n",
       "      <th>BILL_AMT5</th>\n",
       "      <th>BILL_AMT6</th>\n",
       "      <th>PAY_AMT1</th>\n",
       "      <th>PAY_AMT2</th>\n",
       "      <th>PAY_AMT3</th>\n",
       "      <th>PAY_AMT4</th>\n",
       "      <th>PAY_AMT5</th>\n",
       "      <th>PAY_AMT6</th>\n",
       "      <th>default</th>\n",
       "    </tr>\n",
       "    <tr>\n",
       "      <th>ID</th>\n",
       "      <th></th>\n",
       "      <th></th>\n",
       "      <th></th>\n",
       "      <th></th>\n",
       "      <th></th>\n",
       "      <th></th>\n",
       "      <th></th>\n",
       "      <th></th>\n",
       "      <th></th>\n",
       "      <th></th>\n",
       "      <th></th>\n",
       "      <th></th>\n",
       "      <th></th>\n",
       "      <th></th>\n",
       "      <th></th>\n",
       "      <th></th>\n",
       "      <th></th>\n",
       "      <th></th>\n",
       "      <th></th>\n",
       "      <th></th>\n",
       "      <th></th>\n",
       "    </tr>\n",
       "  </thead>\n",
       "  <tbody>\n",
       "    <tr>\n",
       "      <th>1</th>\n",
       "      <td>0</td>\n",
       "      <td>0</td>\n",
       "      <td>1</td>\n",
       "      <td>0</td>\n",
       "      <td>0</td>\n",
       "      <td>0</td>\n",
       "      <td>0</td>\n",
       "      <td>0</td>\n",
       "      <td>1</td>\n",
       "      <td>0</td>\n",
       "      <td>...</td>\n",
       "      <td>0</td>\n",
       "      <td>0</td>\n",
       "      <td>0</td>\n",
       "      <td>0</td>\n",
       "      <td>689</td>\n",
       "      <td>0</td>\n",
       "      <td>0</td>\n",
       "      <td>0</td>\n",
       "      <td>0</td>\n",
       "      <td>1</td>\n",
       "    </tr>\n",
       "    <tr>\n",
       "      <th>2</th>\n",
       "      <td>0</td>\n",
       "      <td>0</td>\n",
       "      <td>1</td>\n",
       "      <td>0</td>\n",
       "      <td>0</td>\n",
       "      <td>0</td>\n",
       "      <td>0</td>\n",
       "      <td>0</td>\n",
       "      <td>1</td>\n",
       "      <td>0</td>\n",
       "      <td>...</td>\n",
       "      <td>3272</td>\n",
       "      <td>3455</td>\n",
       "      <td>3261</td>\n",
       "      <td>0</td>\n",
       "      <td>1000</td>\n",
       "      <td>1000</td>\n",
       "      <td>1000</td>\n",
       "      <td>0</td>\n",
       "      <td>2000</td>\n",
       "      <td>1</td>\n",
       "    </tr>\n",
       "    <tr>\n",
       "      <th>3</th>\n",
       "      <td>0</td>\n",
       "      <td>0</td>\n",
       "      <td>1</td>\n",
       "      <td>0</td>\n",
       "      <td>0</td>\n",
       "      <td>0</td>\n",
       "      <td>0</td>\n",
       "      <td>0</td>\n",
       "      <td>1</td>\n",
       "      <td>0</td>\n",
       "      <td>...</td>\n",
       "      <td>14331</td>\n",
       "      <td>14948</td>\n",
       "      <td>15549</td>\n",
       "      <td>1518</td>\n",
       "      <td>1500</td>\n",
       "      <td>1000</td>\n",
       "      <td>1000</td>\n",
       "      <td>1000</td>\n",
       "      <td>5000</td>\n",
       "      <td>0</td>\n",
       "    </tr>\n",
       "    <tr>\n",
       "      <th>4</th>\n",
       "      <td>0</td>\n",
       "      <td>0</td>\n",
       "      <td>1</td>\n",
       "      <td>0</td>\n",
       "      <td>0</td>\n",
       "      <td>0</td>\n",
       "      <td>0</td>\n",
       "      <td>0</td>\n",
       "      <td>1</td>\n",
       "      <td>0</td>\n",
       "      <td>...</td>\n",
       "      <td>28314</td>\n",
       "      <td>28959</td>\n",
       "      <td>29547</td>\n",
       "      <td>2000</td>\n",
       "      <td>2019</td>\n",
       "      <td>1200</td>\n",
       "      <td>1100</td>\n",
       "      <td>1069</td>\n",
       "      <td>1000</td>\n",
       "      <td>0</td>\n",
       "    </tr>\n",
       "    <tr>\n",
       "      <th>5</th>\n",
       "      <td>0</td>\n",
       "      <td>0</td>\n",
       "      <td>1</td>\n",
       "      <td>0</td>\n",
       "      <td>0</td>\n",
       "      <td>0</td>\n",
       "      <td>0</td>\n",
       "      <td>1</td>\n",
       "      <td>0</td>\n",
       "      <td>0</td>\n",
       "      <td>...</td>\n",
       "      <td>20940</td>\n",
       "      <td>19146</td>\n",
       "      <td>19131</td>\n",
       "      <td>2000</td>\n",
       "      <td>36681</td>\n",
       "      <td>10000</td>\n",
       "      <td>9000</td>\n",
       "      <td>689</td>\n",
       "      <td>679</td>\n",
       "      <td>0</td>\n",
       "    </tr>\n",
       "  </tbody>\n",
       "</table>\n",
       "<p>5 rows × 34 columns</p>\n",
       "</div>"
      ],
      "text/plain": [
       "    EDUCATION_0  EDUCATION_1  EDUCATION_2  EDUCATION_3  EDUCATION_4  \\\n",
       "ID                                                                    \n",
       "1             0            0            1            0            0   \n",
       "2             0            0            1            0            0   \n",
       "3             0            0            1            0            0   \n",
       "4             0            0            1            0            0   \n",
       "5             0            0            1            0            0   \n",
       "\n",
       "    EDUCATION_5  EDUCATION_6  SEX_1  SEX_2  MARRIAGE_0  ...  BILL_AMT4  \\\n",
       "ID                                                      ...              \n",
       "1             0            0      0      1           0  ...          0   \n",
       "2             0            0      0      1           0  ...       3272   \n",
       "3             0            0      0      1           0  ...      14331   \n",
       "4             0            0      0      1           0  ...      28314   \n",
       "5             0            0      1      0           0  ...      20940   \n",
       "\n",
       "    BILL_AMT5  BILL_AMT6  PAY_AMT1  PAY_AMT2  PAY_AMT3  PAY_AMT4  PAY_AMT5  \\\n",
       "ID                                                                           \n",
       "1           0          0         0       689         0         0         0   \n",
       "2        3455       3261         0      1000      1000      1000         0   \n",
       "3       14948      15549      1518      1500      1000      1000      1000   \n",
       "4       28959      29547      2000      2019      1200      1100      1069   \n",
       "5       19146      19131      2000     36681     10000      9000       689   \n",
       "\n",
       "    PAY_AMT6  default  \n",
       "ID                     \n",
       "1          0        1  \n",
       "2       2000        1  \n",
       "3       5000        0  \n",
       "4       1000        0  \n",
       "5        679        0  \n",
       "\n",
       "[5 rows x 34 columns]"
      ]
     },
     "execution_count": 195,
     "metadata": {},
     "output_type": "execute_result"
    }
   ],
   "source": [
    "df['EDUCATION'] = df['EDUCATION'].astype('category')\n",
    "df['SEX'] = df['SEX'].astype('category')\n",
    "df['MARRIAGE'] = df['MARRIAGE'].astype('category')\n",
    "\n",
    "df=pd.concat([pd.get_dummies(df['EDUCATION'], prefix='EDUCATION'), \n",
    "                  pd.get_dummies(df['SEX'], prefix='SEX'), \n",
    "                  pd.get_dummies(df['MARRIAGE'], prefix='MARRIAGE'),\n",
    "                  df],axis=1)\n",
    "df.drop(['EDUCATION'],axis=1, inplace=True)\n",
    "df.drop(['SEX'],axis=1, inplace=True)\n",
    "df.drop(['MARRIAGE'],axis=1, inplace=True)\n",
    "df.head()"
   ]
  },
  {
   "cell_type": "markdown",
   "metadata": {},
   "source": [
    "Computed feature"
   ]
  },
  {
   "cell_type": "code",
   "execution_count": 196,
   "metadata": {},
   "outputs": [],
   "source": [
    "pay_vars = ['PAY_0','PAY_2','PAY_3','PAY_4','PAY_5', 'PAY_6']\n",
    "df.insert(0, \"DELAYED\", (df[pay_vars] > 0).sum(axis=1))"
   ]
  },
  {
   "cell_type": "code",
   "execution_count": 197,
   "metadata": {},
   "outputs": [],
   "source": [
    "data = np.array(df)\n",
    "X_train, X_test, y_train, y_test = train_test_split(data[:,:-1], data[:,-1], test_size = 0.33, random_state = 42)"
   ]
  },
  {
   "cell_type": "code",
   "execution_count": 198,
   "metadata": {},
   "outputs": [],
   "source": [
    "from sklearn.preprocessing import StandardScaler, RobustScaler\n",
    "from sklearn.impute import SimpleImputer\n",
    "from sklearn.feature_selection import SelectKBest\n",
    "\n",
    "preprocessing = Pipeline([('scaler', StandardScaler()),\n",
    "                          ('imputer', SimpleImputer())\n",
    "                          ])\n",
    "\n",
    "feature_selection = Pipeline([('SelectKBest', SelectKBest())])"
   ]
  },
  {
   "cell_type": "code",
   "execution_count": 199,
   "metadata": {},
   "outputs": [],
   "source": [
    "from sklearn.linear_model import LogisticRegression\n",
    "\n",
    "classifier = RandomForestClassifier()"
   ]
  },
  {
   "cell_type": "code",
   "execution_count": 260,
   "metadata": {},
   "outputs": [],
   "source": [
    "param_grid = {\n",
    "                'preprocessing__imputer__strategy' : ['mean'],\n",
    "                'feature_selection__SelectKBest__k' : [3], \n",
    "                'classifier__n_estimators' : [22],\n",
    "                'classifier__class_weight' : ['balanced']\n",
    "                }"
   ]
  },
  {
   "cell_type": "code",
   "execution_count": 261,
   "metadata": {},
   "outputs": [],
   "source": [
    "n_folds = 5\n",
    "\n",
    "from sklearn.model_selection import KFold\n",
    "\n",
    "def create_folds(X,y,n_folds):\n",
    "    folds = []\n",
    "    cv_object = KFold(n_splits = n_folds)\n",
    "    for (train_indices, val_indices) in cv_object.split(X_train, y_train):\n",
    "        folds.append((train_indices,val_indices))\n",
    "    return folds"
   ]
  },
  {
   "cell_type": "code",
   "execution_count": 262,
   "metadata": {},
   "outputs": [
    {
     "name": "stdout",
     "output_type": "stream",
     "text": [
      "Fitting 5 folds for each of 1 candidates, totalling 5 fits\n"
     ]
    },
    {
     "data": {
      "text/plain": [
       "GridSearchCV(cv=[(array([ 4020,  4021,  4022, ..., 20097, 20098, 20099]),\n",
       "                  array([   0,    1,    2, ..., 4017, 4018, 4019])),\n",
       "                 (array([    0,     1,     2, ..., 20097, 20098, 20099]),\n",
       "                  array([4020, 4021, 4022, ..., 8037, 8038, 8039])),\n",
       "                 (array([    0,     1,     2, ..., 20097, 20098, 20099]),\n",
       "                  array([ 8040,  8041,  8042, ..., 12057, 12058, 12059])),\n",
       "                 (array([    0,     1,     2, ..., 20097, 20098, 20099]),\n",
       "                  array([12060, 12061, 12062, ..., 16077, 16078, 16079...\n",
       "                                        Pipeline(steps=[('SelectKBest',\n",
       "                                                         SelectKBest())])),\n",
       "                                       ('classifier',\n",
       "                                        RandomForestClassifier())]),\n",
       "             n_jobs=4,\n",
       "             param_grid={'classifier__class_weight': ['balanced'],\n",
       "                         'classifier__n_estimators': [22],\n",
       "                         'feature_selection__SelectKBest__k': [3],\n",
       "                         'preprocessing__imputer__strategy': ['mean']},\n",
       "             refit='f1', return_train_score=True,\n",
       "             scoring=['accuracy', 'f1', 'roc_auc'], verbose=1)"
      ]
     },
     "execution_count": 262,
     "metadata": {},
     "output_type": "execute_result"
    }
   ],
   "source": [
    "pipeline = Pipeline([\n",
    "    ('preprocessing', preprocessing),\n",
    "    ('feature_selection', feature_selection),\n",
    "    ('classifier', classifier)])\n",
    "\n",
    "folds = create_folds(X_train,y_train,n_folds)\n",
    "assert isinstance(folds,list),'Folds must be presented as tuples of train and test index lists' \n",
    "\n",
    "# train model\n",
    "cv = GridSearchCV(pipeline, param_grid, n_jobs=4, cv=folds, verbose=1, return_train_score=True, refit='f1', scoring=['accuracy', 'f1', 'roc_auc'] )\n",
    "cv.fit(X_train, y_train)"
   ]
  },
  {
   "cell_type": "code",
   "execution_count": 263,
   "metadata": {},
   "outputs": [
    {
     "name": "stdout",
     "output_type": "stream",
     "text": [
      "Training f1 0.53546901146676 +/- 0.004930816356043681\n",
      "Cross-validation f1: 0.5266609194967955 +/- 0.00950661560039393\n",
      "Cross-validation acc: 0.7651243781094527 +/- 0.007973248010971403\n",
      "Cross-validation auc: 0.7429594632788736 +/- 0.007657196196595553\n",
      "Best estimator:\n",
      "Pipeline(steps=[('preprocessing',\n",
      "                 Pipeline(steps=[('scaler', StandardScaler()),\n",
      "                                 ('imputer', SimpleImputer())])),\n",
      "                ('feature_selection',\n",
      "                 Pipeline(steps=[('SelectKBest', SelectKBest(k=3))])),\n",
      "                ('classifier',\n",
      "                 RandomForestClassifier(class_weight='balanced',\n",
      "                                        n_estimators=22))])\n"
     ]
    }
   ],
   "source": [
    "results = cv.cv_results_\n",
    "mean_train_score = results['mean_train_f1'][cv.best_index_]\n",
    "std_train_score = results['std_train_f1'][cv.best_index_]\n",
    "mean_cv_score = results['mean_test_f1'][cv.best_index_]\n",
    "std_cv_score = results['std_test_f1'][cv.best_index_]\n",
    "\n",
    "mean_cv_acc = results['mean_test_accuracy'][cv.best_index_]\n",
    "std_cv_acc = results['std_test_accuracy'][cv.best_index_]\n",
    "\n",
    "mean_cv_auc = results['mean_test_roc_auc'][cv.best_index_]\n",
    "std_cv_auc = results['std_test_roc_auc'][cv.best_index_]\n",
    "\n",
    "\n",
    "print('Training f1 {} +/- {}'.format(mean_train_score, std_train_score))\n",
    "print('Cross-validation f1: {} +/- {}'.format(mean_cv_score, std_cv_score))\n",
    "print('Cross-validation acc: {} +/- {}'.format(mean_cv_acc, std_cv_acc))\n",
    "print('Cross-validation auc: {} +/- {}'.format(mean_cv_auc, std_cv_auc))\n",
    "\n",
    "print('Best estimator:')\n",
    "print(cv.best_estimator_)"
   ]
  },
  {
   "cell_type": "code",
   "execution_count": 264,
   "metadata": {},
   "outputs": [
    {
     "data": {
      "image/png": "[encoded data removed]",
      "text/plain": [
       "<Figure size 504x432 with 2 Axes>"
      ]
     },
     "metadata": {
      "needs_background": "light"
     },
     "output_type": "display_data"
    }
   ],
   "source": [
    "for _, val_indices in folds:\n",
    "    from sklearn.metrics import confusion_matrix\n",
    "    import seaborn as sns\n",
    "    X = X_train[val_indices]\n",
    "    y = y_train[val_indices]\n",
    "    y_pred = cv.best_estimator_.predict(X)\n",
    "    labels = y\n",
    "    cm = confusion_matrix(y, y_pred)\n",
    "    # Normalise\n",
    "    cmn = cm.astype('float') / cm.sum(axis=1)[:, np.newaxis]\n",
    "    fig, ax = plt.subplots(figsize=(7,6))\n",
    "    sns.heatmap(cmn, annot=True, fmt='.2f', cmap=\"YlGnBu\")\n",
    "    plt.ylabel('True Values')\n",
    "    plt.xlabel('Predicted Values')\n",
    "    plt.title(\"Confusion matrix validation set RF\")\n",
    "    plt.show(block=False)\n",
    "    break\n"
   ]
  },
  {
   "cell_type": "code",
   "execution_count": 265,
   "metadata": {},
   "outputs": [
    {
     "name": "stdout",
     "output_type": "stream",
     "text": [
      "Prediction only dominant class: ROC AUC=0.500\n",
      "Model: ROC AUC=0.749\n"
     ]
    },
    {
     "data": {
      "image/png": "[encoded data removed]",
      "text/plain": [
       "<Figure size 432x288 with 1 Axes>"
      ]
     },
     "metadata": {
      "needs_background": "light"
     },
     "output_type": "display_data"
    }
   ],
   "source": [
    "from sklearn.metrics import roc_curve\n",
    "from sklearn.metrics import roc_auc_score\n",
    "from matplotlib import pyplot\n",
    "\n",
    "\n",
    "for _ ,val_indices in folds:\n",
    "    # generate a no skill prediction (majority class)\n",
    "    ns_probs = [0 for _ in range(len(y_train[val_indices]))]\n",
    "    X = X_train[val_indices]\n",
    "    y = y_train[val_indices]\n",
    "    lr_probs = cv.best_estimator_.predict_proba(X)\n",
    "    # keep probabilities for the positive outcome only\n",
    "    lr_probs = lr_probs[:, 1]\n",
    "    # calculate scores\n",
    "    ns_auc = roc_auc_score(y, ns_probs)\n",
    "    lr_auc = roc_auc_score(y, lr_probs)\n",
    "    # summarize scores\n",
    "    print('Prediction only dominant class: ROC AUC=%.3f' % (ns_auc))\n",
    "    print('Model: ROC AUC=%.3f' % (lr_auc))\n",
    "    # calculate roc curves\n",
    "    ns_fpr, ns_tpr, _ = roc_curve(y, ns_probs)\n",
    "    lr_fpr, lr_tpr, _ = roc_curve(y, lr_probs)\n",
    "    # plot the roc curve for the model\n",
    "    pyplot.plot(ns_fpr, ns_tpr, linestyle='--', label='Dominant pred : AUC = %.3f' % (ns_auc))\n",
    "    pyplot.plot(lr_fpr, lr_tpr, marker='.', label='Model : AUC = %.3f' % (lr_auc))\n",
    "    # axis labels\n",
    "    pyplot.xlabel('False Positive Rate')\n",
    "    pyplot.ylabel('True Positive Rate')\n",
    "    # show the legend\n",
    "    pyplot.legend(loc = 'lower right')\n",
    "    pyplot.title(\"ROC - Validation set RF\")\n",
    "    # show the plot\n",
    "    pyplot.show()\n",
    "    break"
   ]
  },
  {
   "cell_type": "markdown",
   "metadata": {},
   "source": [
    "Selected variables"
   ]
  },
  {
   "cell_type": "code",
   "execution_count": 266,
   "metadata": {},
   "outputs": [
    {
     "data": {
      "text/plain": [
       "Index(['DELAYED', 'PAY_0', 'PAY_2'], dtype='object')"
      ]
     },
     "execution_count": 266,
     "metadata": {},
     "output_type": "execute_result"
    }
   ],
   "source": [
    "k = cv.best_estimator_.named_steps['feature_selection']['SelectKBest'].k\n",
    "a = cv.best_estimator_.named_steps[\"feature_selection\"][\"SelectKBest\"].scores_\n",
    "ind = np.argpartition(a, -k)[-k:][::-1]\n",
    "a[ind]\n",
    "df.columns[ind]\n"
   ]
  },
  {
   "cell_type": "markdown",
   "metadata": {},
   "source": [
    "#### Finding optimal cutoff\n",
    "By maximizing precision-recall. Economics of the problem is not considered. This threshold will give the lowest false positive rate and the highest true positive rate."
   ]
  },
  {
   "cell_type": "code",
   "execution_count": 267,
   "metadata": {},
   "outputs": [
    {
     "data": {
      "text/plain": [
       "0.49293561708177686"
      ]
     },
     "execution_count": 267,
     "metadata": {},
     "output_type": "execute_result"
    }
   ],
   "source": [
    " from sklearn.metrics import roc_curve\n",
    " preds =cv.best_estimator_.predict_proba(X_train)[:,1]\n",
    "\n",
    " fpr, tpr, thresholds = roc_curve(y_train, preds)\n",
    " optimal_idx = np.argmax(tpr - fpr)\n",
    " optimal_threshold = thresholds[optimal_idx]\n",
    "\n",
    " optimal_threshold"
   ]
  },
  {
   "cell_type": "markdown",
   "metadata": {},
   "source": [
    "#### Testing model"
   ]
  },
  {
   "cell_type": "code",
   "execution_count": 268,
   "metadata": {},
   "outputs": [
    {
     "name": "stdout",
     "output_type": "stream",
     "text": [
      "Test f1: 0.5132208511709897\n",
      "Test accuracy: 0.8047474747474748\n",
      "Test auc: 0.6848194997664485\n"
     ]
    }
   ],
   "source": [
    "scale = StandardScaler()\n",
    "X_test = scale.fit_transform(X_test)\n",
    "\n",
    "model = cv.best_estimator_\n",
    "pred = (model.predict_proba(X_test)[:,1] >= optimal_threshold).astype(bool) # set threshold as optimal threshold\n",
    "\n",
    "f1 = metrics.f1_score(y_test, pred)\n",
    "auc = metrics.roc_auc_score(y_test, pred)\n",
    "acc = metrics.accuracy_score(y_test, pred)\n",
    "\n",
    "print('Test f1: {}'.format(f1))\n",
    "print('Test accuracy: {}'.format(acc))\n",
    "print('Test auc: {}'.format(auc))"
   ]
  },
  {
   "cell_type": "code",
   "execution_count": 269,
   "metadata": {},
   "outputs": [
    {
     "data": {
      "image/png": "[encoded data removed]",
      "text/plain": [
       "<Figure size 504x432 with 2 Axes>"
      ]
     },
     "metadata": {
      "needs_background": "light"
     },
     "output_type": "display_data"
    }
   ],
   "source": [
    "cm = confusion_matrix(y_test, pred)\n",
    "# Normalise\n",
    "cmn = cm.astype('float') / cm.sum(axis=1)[:, np.newaxis]\n",
    "fig, ax = plt.subplots(figsize=(7,6))\n",
    "sns.heatmap(cmn, annot=True, fmt='.2f', cmap=\"YlGnBu\")\n",
    "plt.ylabel('True Values')\n",
    "plt.xlabel('Predicted Values')\n",
    "plt.title(\"Confusion matrix test set RF\")\n",
    "plt.show(block=False)"
   ]
  },
  {
   "cell_type": "code",
   "execution_count": 270,
   "metadata": {},
   "outputs": [
    {
     "name": "stdout",
     "output_type": "stream",
     "text": [
      "Prediction only dominant class: ROC AUC=0.500\n",
      "Model: ROC AUC=0.685\n"
     ]
    },
    {
     "data": {
      "image/png": "[encoded data removed]",
      "text/plain": [
       "<Figure size 432x288 with 1 Axes>"
      ]
     },
     "metadata": {
      "needs_background": "light"
     },
     "output_type": "display_data"
    }
   ],
   "source": [
    "lr_probs = pred\n",
    "#lr_probs = cv.best_estimator_.predict(X_test)\n",
    "ns_probs = [0 for _ in range(len(y_test))]\n",
    "# keep probabilities for the positive outcome only\n",
    "#lr_probs = lr_probs[:, 1]\n",
    "# calculate scores\n",
    "ns_auc = roc_auc_score(y_test, ns_probs)\n",
    "lr_auc = roc_auc_score(y_test, lr_probs)\n",
    "# summarize scores\n",
    "print('Prediction only dominant class: ROC AUC=%.3f' % (ns_auc))\n",
    "print('Model: ROC AUC=%.3f' % (lr_auc))\n",
    "# calculate roc curves\n",
    "ns_fpr, ns_tpr, _ = roc_curve(y_test, ns_probs)\n",
    "lr_fpr, lr_tpr, _ = roc_curve(y_test, lr_probs)\n",
    "# plot the roc curve for the model\n",
    "pyplot.plot(ns_fpr, ns_tpr, linestyle='--', label='Dominant pred : AUC = %.3f' % (ns_auc))\n",
    "pyplot.plot(lr_fpr, lr_tpr, marker='.', label='Model : AUC = %.3f' % (lr_auc))\n",
    "# axis labels\n",
    "pyplot.xlabel('False Positive Rate')\n",
    "pyplot.ylabel('True Positive Rate')\n",
    "# show the legend\n",
    "pyplot.legend(loc = 'lower right')\n",
    "pyplot.title(\"ROC - Test set RF\")\n",
    "# show the plot\n",
    "pyplot.show()"
   ]
  }
 ],
 "metadata": {
  "kernelspec": {
   "display_name": "Python 3.8.12 ('condaml')",
   "language": "python",
   "name": "python3"
  },
  "language_info": {
   "codemirror_mode": {
    "name": "ipython",
    "version": 3
   },
   "file_extension": ".py",
   "mimetype": "text/x-python",
   "name": "python",
   "nbconvert_exporter": "python",
   "pygments_lexer": "ipython3",
   "version": "3.8.12"
  },
  "orig_nbformat": 4,
  "vscode": {
   "interpreter": {
    "hash": "d8d9b7c5796d4a49284a6919f1cae677c7f985ddb1021cb8534a76a814c7554c"
   }
  }
 },
 "nbformat": 4,
 "nbformat_minor": 2
}
