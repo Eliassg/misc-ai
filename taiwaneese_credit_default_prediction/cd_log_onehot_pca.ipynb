{
 "cells": [
  {
   "cell_type": "code",
   "execution_count": 1,
   "metadata": {},
   "outputs": [
    {
     "name": "stderr",
     "output_type": "stream",
     "text": [
      "<frozen importlib._bootstrap>:219: RuntimeWarning: scipy._lib.messagestream.MessageStream size changed, may indicate binary incompatibility. Expected 56 from C header, got 64 from PyObject\n"
     ]
    }
   ],
   "source": [
    "import sklearn\n",
    "import numpy as np\n",
    "import pandas as pd\n",
    "import csv\n",
    "import pickle\n",
    "import time\n",
    "import os\n",
    "import matplotlib.pyplot as plt\n",
    "import seaborn as sns\n",
    "\n",
    "%matplotlib inline\n",
    "\n",
    "from sklearn.preprocessing import LabelEncoder\n",
    "from sklearn.pipeline import Pipeline\n",
    "from sklearn.model_selection import KFold, GridSearchCV\n",
    "from sklearn.model_selection import train_test_split\n",
    "from sklearn.decomposition import PCA\n",
    "from sklearn import metrics"
   ]
  },
  {
   "cell_type": "markdown",
   "metadata": {},
   "source": [
    "Read the data"
   ]
  },
  {
   "cell_type": "code",
   "execution_count": 2,
   "metadata": {},
   "outputs": [],
   "source": [
    "df = pd.read_excel('default of credit card clients.xls', index_col = 0, header = 1)"
   ]
  },
  {
   "cell_type": "code",
   "execution_count": 3,
   "metadata": {},
   "outputs": [],
   "source": [
    "df.rename(columns={'default payment next month':'default'}, inplace=True)"
   ]
  },
  {
   "cell_type": "markdown",
   "metadata": {},
   "source": [
    "Encoding of categorical variables"
   ]
  },
  {
   "cell_type": "code",
   "execution_count": 4,
   "metadata": {},
   "outputs": [
    {
     "data": {
      "text/html": [
       "<div>\n",
       "<style scoped>\n",
       "    .dataframe tbody tr th:only-of-type {\n",
       "        vertical-align: middle;\n",
       "    }\n",
       "\n",
       "    .dataframe tbody tr th {\n",
       "        vertical-align: top;\n",
       "    }\n",
       "\n",
       "    .dataframe thead th {\n",
       "        text-align: right;\n",
       "    }\n",
       "</style>\n",
       "<table border=\"1\" class=\"dataframe\">\n",
       "  <thead>\n",
       "    <tr style=\"text-align: right;\">\n",
       "      <th></th>\n",
       "      <th>EDUCATION_0</th>\n",
       "      <th>EDUCATION_1</th>\n",
       "      <th>EDUCATION_2</th>\n",
       "      <th>EDUCATION_3</th>\n",
       "      <th>EDUCATION_4</th>\n",
       "      <th>EDUCATION_5</th>\n",
       "      <th>EDUCATION_6</th>\n",
       "      <th>SEX_1</th>\n",
       "      <th>SEX_2</th>\n",
       "      <th>MARRIAGE_0</th>\n",
       "      <th>...</th>\n",
       "      <th>BILL_AMT4</th>\n",
       "      <th>BILL_AMT5</th>\n",
       "      <th>BILL_AMT6</th>\n",
       "      <th>PAY_AMT1</th>\n",
       "      <th>PAY_AMT2</th>\n",
       "      <th>PAY_AMT3</th>\n",
       "      <th>PAY_AMT4</th>\n",
       "      <th>PAY_AMT5</th>\n",
       "      <th>PAY_AMT6</th>\n",
       "      <th>default</th>\n",
       "    </tr>\n",
       "    <tr>\n",
       "      <th>ID</th>\n",
       "      <th></th>\n",
       "      <th></th>\n",
       "      <th></th>\n",
       "      <th></th>\n",
       "      <th></th>\n",
       "      <th></th>\n",
       "      <th></th>\n",
       "      <th></th>\n",
       "      <th></th>\n",
       "      <th></th>\n",
       "      <th></th>\n",
       "      <th></th>\n",
       "      <th></th>\n",
       "      <th></th>\n",
       "      <th></th>\n",
       "      <th></th>\n",
       "      <th></th>\n",
       "      <th></th>\n",
       "      <th></th>\n",
       "      <th></th>\n",
       "      <th></th>\n",
       "    </tr>\n",
       "  </thead>\n",
       "  <tbody>\n",
       "    <tr>\n",
       "      <th>1</th>\n",
       "      <td>0</td>\n",
       "      <td>0</td>\n",
       "      <td>1</td>\n",
       "      <td>0</td>\n",
       "      <td>0</td>\n",
       "      <td>0</td>\n",
       "      <td>0</td>\n",
       "      <td>0</td>\n",
       "      <td>1</td>\n",
       "      <td>0</td>\n",
       "      <td>...</td>\n",
       "      <td>0</td>\n",
       "      <td>0</td>\n",
       "      <td>0</td>\n",
       "      <td>0</td>\n",
       "      <td>689</td>\n",
       "      <td>0</td>\n",
       "      <td>0</td>\n",
       "      <td>0</td>\n",
       "      <td>0</td>\n",
       "      <td>1</td>\n",
       "    </tr>\n",
       "    <tr>\n",
       "      <th>2</th>\n",
       "      <td>0</td>\n",
       "      <td>0</td>\n",
       "      <td>1</td>\n",
       "      <td>0</td>\n",
       "      <td>0</td>\n",
       "      <td>0</td>\n",
       "      <td>0</td>\n",
       "      <td>0</td>\n",
       "      <td>1</td>\n",
       "      <td>0</td>\n",
       "      <td>...</td>\n",
       "      <td>3272</td>\n",
       "      <td>3455</td>\n",
       "      <td>3261</td>\n",
       "      <td>0</td>\n",
       "      <td>1000</td>\n",
       "      <td>1000</td>\n",
       "      <td>1000</td>\n",
       "      <td>0</td>\n",
       "      <td>2000</td>\n",
       "      <td>1</td>\n",
       "    </tr>\n",
       "    <tr>\n",
       "      <th>3</th>\n",
       "      <td>0</td>\n",
       "      <td>0</td>\n",
       "      <td>1</td>\n",
       "      <td>0</td>\n",
       "      <td>0</td>\n",
       "      <td>0</td>\n",
       "      <td>0</td>\n",
       "      <td>0</td>\n",
       "      <td>1</td>\n",
       "      <td>0</td>\n",
       "      <td>...</td>\n",
       "      <td>14331</td>\n",
       "      <td>14948</td>\n",
       "      <td>15549</td>\n",
       "      <td>1518</td>\n",
       "      <td>1500</td>\n",
       "      <td>1000</td>\n",
       "      <td>1000</td>\n",
       "      <td>1000</td>\n",
       "      <td>5000</td>\n",
       "      <td>0</td>\n",
       "    </tr>\n",
       "    <tr>\n",
       "      <th>4</th>\n",
       "      <td>0</td>\n",
       "      <td>0</td>\n",
       "      <td>1</td>\n",
       "      <td>0</td>\n",
       "      <td>0</td>\n",
       "      <td>0</td>\n",
       "      <td>0</td>\n",
       "      <td>0</td>\n",
       "      <td>1</td>\n",
       "      <td>0</td>\n",
       "      <td>...</td>\n",
       "      <td>28314</td>\n",
       "      <td>28959</td>\n",
       "      <td>29547</td>\n",
       "      <td>2000</td>\n",
       "      <td>2019</td>\n",
       "      <td>1200</td>\n",
       "      <td>1100</td>\n",
       "      <td>1069</td>\n",
       "      <td>1000</td>\n",
       "      <td>0</td>\n",
       "    </tr>\n",
       "    <tr>\n",
       "      <th>5</th>\n",
       "      <td>0</td>\n",
       "      <td>0</td>\n",
       "      <td>1</td>\n",
       "      <td>0</td>\n",
       "      <td>0</td>\n",
       "      <td>0</td>\n",
       "      <td>0</td>\n",
       "      <td>1</td>\n",
       "      <td>0</td>\n",
       "      <td>0</td>\n",
       "      <td>...</td>\n",
       "      <td>20940</td>\n",
       "      <td>19146</td>\n",
       "      <td>19131</td>\n",
       "      <td>2000</td>\n",
       "      <td>36681</td>\n",
       "      <td>10000</td>\n",
       "      <td>9000</td>\n",
       "      <td>689</td>\n",
       "      <td>679</td>\n",
       "      <td>0</td>\n",
       "    </tr>\n",
       "  </tbody>\n",
       "</table>\n",
       "<p>5 rows × 34 columns</p>\n",
       "</div>"
      ],
      "text/plain": [
       "    EDUCATION_0  EDUCATION_1  EDUCATION_2  EDUCATION_3  EDUCATION_4  \\\n",
       "ID                                                                    \n",
       "1             0            0            1            0            0   \n",
       "2             0            0            1            0            0   \n",
       "3             0            0            1            0            0   \n",
       "4             0            0            1            0            0   \n",
       "5             0            0            1            0            0   \n",
       "\n",
       "    EDUCATION_5  EDUCATION_6  SEX_1  SEX_2  MARRIAGE_0  ...  BILL_AMT4  \\\n",
       "ID                                                      ...              \n",
       "1             0            0      0      1           0  ...          0   \n",
       "2             0            0      0      1           0  ...       3272   \n",
       "3             0            0      0      1           0  ...      14331   \n",
       "4             0            0      0      1           0  ...      28314   \n",
       "5             0            0      1      0           0  ...      20940   \n",
       "\n",
       "    BILL_AMT5  BILL_AMT6  PAY_AMT1  PAY_AMT2  PAY_AMT3  PAY_AMT4  PAY_AMT5  \\\n",
       "ID                                                                           \n",
       "1           0          0         0       689         0         0         0   \n",
       "2        3455       3261         0      1000      1000      1000         0   \n",
       "3       14948      15549      1518      1500      1000      1000      1000   \n",
       "4       28959      29547      2000      2019      1200      1100      1069   \n",
       "5       19146      19131      2000     36681     10000      9000       689   \n",
       "\n",
       "    PAY_AMT6  default  \n",
       "ID                     \n",
       "1          0        1  \n",
       "2       2000        1  \n",
       "3       5000        0  \n",
       "4       1000        0  \n",
       "5        679        0  \n",
       "\n",
       "[5 rows x 34 columns]"
      ]
     },
     "execution_count": 4,
     "metadata": {},
     "output_type": "execute_result"
    }
   ],
   "source": [
    "df['EDUCATION'] = df['EDUCATION'].astype('category')\n",
    "df['SEX'] = df['SEX'].astype('category')\n",
    "df['MARRIAGE'] = df['MARRIAGE'].astype('category')\n",
    "\n",
    "df=pd.concat([pd.get_dummies(df['EDUCATION'], prefix='EDUCATION'), \n",
    "                  pd.get_dummies(df['SEX'], prefix='SEX'), \n",
    "                  pd.get_dummies(df['MARRIAGE'], prefix='MARRIAGE'),\n",
    "                  df],axis=1)\n",
    "df.drop(['EDUCATION'],axis=1, inplace=True)\n",
    "df.drop(['SEX'],axis=1, inplace=True)\n",
    "df.drop(['MARRIAGE'],axis=1, inplace=True)\n",
    "df.head()"
   ]
  },
  {
   "cell_type": "markdown",
   "metadata": {},
   "source": [
    "Computed feature"
   ]
  },
  {
   "cell_type": "code",
   "execution_count": 5,
   "metadata": {},
   "outputs": [],
   "source": [
    "pay_vars = ['PAY_0','PAY_2','PAY_3','PAY_4','PAY_5', 'PAY_6']\n",
    "df.insert(0, \"DELAYED\", (df[pay_vars] > 0).sum(axis=1))"
   ]
  },
  {
   "cell_type": "markdown",
   "metadata": {},
   "source": [
    "Divide the data in a train and test set"
   ]
  },
  {
   "cell_type": "code",
   "execution_count": 6,
   "metadata": {},
   "outputs": [],
   "source": [
    "data = np.array(df)\n",
    "indices = df.columns\n",
    "X_train, X_test, y_train, y_test = train_test_split(data[:,:-1], data[:,-1], test_size = 0.33, random_state = 42)\n",
    "train_indices = indices[:-1]\n",
    "X_train = pd.DataFrame(X_train, columns = train_indices)"
   ]
  },
  {
   "cell_type": "code",
   "execution_count": 7,
   "metadata": {},
   "outputs": [],
   "source": [
    "from sklearn.preprocessing import StandardScaler, RobustScaler\n",
    "from sklearn.impute import SimpleImputer\n",
    "from sklearn.feature_selection import SelectKBest\n",
    "\n",
    "\n",
    "preprocessing = Pipeline([('scaler', StandardScaler()),\n",
    "                          ('imputer', SimpleImputer())\n",
    "                          ])\n",
    "\n",
    "\n",
    "feature_selection = Pipeline([('SelectKBest', SelectKBest())])"
   ]
  },
  {
   "cell_type": "markdown",
   "metadata": {},
   "source": [
    "PCA on subset of features"
   ]
  },
  {
   "cell_type": "code",
   "execution_count": 8,
   "metadata": {},
   "outputs": [
    {
     "data": {
      "text/plain": [
       "(20100, 12)"
      ]
     },
     "execution_count": 8,
     "metadata": {},
     "output_type": "execute_result"
    }
   ],
   "source": [
    "pca_indices = np.array(['BILL_AMT1', 'BILL_AMT2', 'BILL_AMT3', 'BILL_AMT4', 'BILL_AMT5',\n",
    "       'BILL_AMT6', 'PAY_AMT1', 'PAY_AMT2', 'PAY_AMT3', 'PAY_AMT4', 'PAY_AMT5',\n",
    "       'PAY_AMT6'])\n",
    "\n",
    "pca_features = X_train[pca_indices]\n",
    "pca_features.head()\n",
    "\n",
    "scale = StandardScaler()\n",
    "pca_features = scale.fit_transform(pca_features)\n",
    "\n",
    "pca = PCA()\n",
    "pca_features = pca.fit_transform(pca_features)\n",
    "\n",
    "pca_features.shape"
   ]
  },
  {
   "cell_type": "code",
   "execution_count": 9,
   "metadata": {},
   "outputs": [
    {
     "data": {
      "text/html": [
       "<div>\n",
       "<style scoped>\n",
       "    .dataframe tbody tr th:only-of-type {\n",
       "        vertical-align: middle;\n",
       "    }\n",
       "\n",
       "    .dataframe tbody tr th {\n",
       "        vertical-align: top;\n",
       "    }\n",
       "\n",
       "    .dataframe thead th {\n",
       "        text-align: right;\n",
       "    }\n",
       "</style>\n",
       "<table border=\"1\" class=\"dataframe\">\n",
       "  <thead>\n",
       "    <tr style=\"text-align: right;\">\n",
       "      <th></th>\n",
       "      <th>PC-1</th>\n",
       "      <th>PC-2</th>\n",
       "      <th>PC-3</th>\n",
       "      <th>PC-4</th>\n",
       "      <th>PC-5</th>\n",
       "      <th>PC-6</th>\n",
       "      <th>PC-7</th>\n",
       "      <th>PC-8</th>\n",
       "      <th>PC-9</th>\n",
       "      <th>PC-10</th>\n",
       "      <th>PC-11</th>\n",
       "      <th>PC-12</th>\n",
       "    </tr>\n",
       "  </thead>\n",
       "  <tbody>\n",
       "    <tr>\n",
       "      <th>0</th>\n",
       "      <td>-0.909044</td>\n",
       "      <td>-0.069727</td>\n",
       "      <td>-0.150297</td>\n",
       "      <td>-0.066069</td>\n",
       "      <td>0.269318</td>\n",
       "      <td>-0.215425</td>\n",
       "      <td>-0.097656</td>\n",
       "      <td>0.864680</td>\n",
       "      <td>0.612199</td>\n",
       "      <td>-0.696648</td>\n",
       "      <td>-0.078467</td>\n",
       "      <td>-0.576010</td>\n",
       "    </tr>\n",
       "    <tr>\n",
       "      <th>1</th>\n",
       "      <td>0.920540</td>\n",
       "      <td>0.459320</td>\n",
       "      <td>-1.794198</td>\n",
       "      <td>1.016920</td>\n",
       "      <td>-0.070479</td>\n",
       "      <td>0.558647</td>\n",
       "      <td>-0.378851</td>\n",
       "      <td>0.039545</td>\n",
       "      <td>0.008158</td>\n",
       "      <td>0.056061</td>\n",
       "      <td>-0.003010</td>\n",
       "      <td>0.076591</td>\n",
       "    </tr>\n",
       "    <tr>\n",
       "      <th>2</th>\n",
       "      <td>-0.394301</td>\n",
       "      <td>-0.429958</td>\n",
       "      <td>0.129103</td>\n",
       "      <td>0.070549</td>\n",
       "      <td>-0.038202</td>\n",
       "      <td>-0.017841</td>\n",
       "      <td>0.022800</td>\n",
       "      <td>0.058345</td>\n",
       "      <td>-0.050358</td>\n",
       "      <td>0.000891</td>\n",
       "      <td>-0.007951</td>\n",
       "      <td>0.016560</td>\n",
       "    </tr>\n",
       "    <tr>\n",
       "      <th>3</th>\n",
       "      <td>3.024563</td>\n",
       "      <td>-0.781976</td>\n",
       "      <td>0.192176</td>\n",
       "      <td>0.137236</td>\n",
       "      <td>-0.110825</td>\n",
       "      <td>0.350901</td>\n",
       "      <td>-0.208844</td>\n",
       "      <td>-0.560366</td>\n",
       "      <td>0.064872</td>\n",
       "      <td>0.047916</td>\n",
       "      <td>-0.040938</td>\n",
       "      <td>-0.003264</td>\n",
       "    </tr>\n",
       "    <tr>\n",
       "      <th>4</th>\n",
       "      <td>-0.284117</td>\n",
       "      <td>-0.445485</td>\n",
       "      <td>0.205641</td>\n",
       "      <td>0.068262</td>\n",
       "      <td>-0.176627</td>\n",
       "      <td>-0.108807</td>\n",
       "      <td>-0.012813</td>\n",
       "      <td>0.573311</td>\n",
       "      <td>-0.043624</td>\n",
       "      <td>0.230517</td>\n",
       "      <td>0.030779</td>\n",
       "      <td>0.518507</td>\n",
       "    </tr>\n",
       "  </tbody>\n",
       "</table>\n",
       "</div>"
      ],
      "text/plain": [
       "       PC-1      PC-2      PC-3      PC-4      PC-5      PC-6      PC-7  \\\n",
       "0 -0.909044 -0.069727 -0.150297 -0.066069  0.269318 -0.215425 -0.097656   \n",
       "1  0.920540  0.459320 -1.794198  1.016920 -0.070479  0.558647 -0.378851   \n",
       "2 -0.394301 -0.429958  0.129103  0.070549 -0.038202 -0.017841  0.022800   \n",
       "3  3.024563 -0.781976  0.192176  0.137236 -0.110825  0.350901 -0.208844   \n",
       "4 -0.284117 -0.445485  0.205641  0.068262 -0.176627 -0.108807 -0.012813   \n",
       "\n",
       "       PC-8      PC-9     PC-10     PC-11     PC-12  \n",
       "0  0.864680  0.612199 -0.696648 -0.078467 -0.576010  \n",
       "1  0.039545  0.008158  0.056061 -0.003010  0.076591  \n",
       "2  0.058345 -0.050358  0.000891 -0.007951  0.016560  \n",
       "3 -0.560366  0.064872  0.047916 -0.040938 -0.003264  \n",
       "4  0.573311 -0.043624  0.230517  0.030779  0.518507  "
      ]
     },
     "execution_count": 9,
     "metadata": {},
     "output_type": "execute_result"
    }
   ],
   "source": [
    "components_indices = ['PC-1','PC-2','PC-3','PC-4','PC-5','PC-6','PC-7','PC-8','PC-9',\n",
    "                'PC-10','PC-11','PC-12']\n",
    "\n",
    "pca_df = pd.DataFrame(pca_features, columns=components_indices)\n",
    "pca_df.head()"
   ]
  },
  {
   "cell_type": "code",
   "execution_count": 10,
   "metadata": {},
   "outputs": [
    {
     "data": {
      "image/png": "[encoded data removed]",
      "text/plain": [
       "<Figure size 432x288 with 1 Axes>"
      ]
     },
     "metadata": {
      "needs_background": "light"
     },
     "output_type": "display_data"
    }
   ],
   "source": [
    "plt.plot(\n",
    "    np.arange(1, pca.n_components_ + 1), pca.explained_variance_ratio_, \"+\", linewidth=2,\n",
    "    label=\"var_explained\", linestyle='-'\n",
    ")\n",
    "\n",
    "plt.plot(\n",
    "    np.arange(1, pca.n_components_ + 1), np.cumsum(pca.explained_variance_ratio_), \"x\", linewidth=2, \n",
    "    label=\"cumulative_var_explained\", linestyle='-'\n",
    ")\n",
    "plt.ylabel(\"PCA explained variance ratio\")\n",
    "plt.xlabel('n_principial_components')\n",
    "plt.show()"
   ]
  },
  {
   "cell_type": "code",
   "execution_count": 11,
   "metadata": {},
   "outputs": [],
   "source": [
    "X_train.drop(pca_indices,axis=1, inplace=True)\n",
    "X_train = pd.concat((X_train, pca_df), axis = 1)"
   ]
  },
  {
   "cell_type": "code",
   "execution_count": 12,
   "metadata": {},
   "outputs": [
    {
     "data": {
      "text/html": [
       "<div>\n",
       "<style scoped>\n",
       "    .dataframe tbody tr th:only-of-type {\n",
       "        vertical-align: middle;\n",
       "    }\n",
       "\n",
       "    .dataframe tbody tr th {\n",
       "        vertical-align: top;\n",
       "    }\n",
       "\n",
       "    .dataframe thead th {\n",
       "        text-align: right;\n",
       "    }\n",
       "</style>\n",
       "<table border=\"1\" class=\"dataframe\">\n",
       "  <thead>\n",
       "    <tr style=\"text-align: right;\">\n",
       "      <th></th>\n",
       "      <th>DELAYED</th>\n",
       "      <th>EDUCATION_0</th>\n",
       "      <th>EDUCATION_1</th>\n",
       "      <th>EDUCATION_2</th>\n",
       "      <th>EDUCATION_3</th>\n",
       "      <th>EDUCATION_4</th>\n",
       "      <th>EDUCATION_5</th>\n",
       "      <th>EDUCATION_6</th>\n",
       "      <th>SEX_1</th>\n",
       "      <th>SEX_2</th>\n",
       "      <th>...</th>\n",
       "      <th>PC-3</th>\n",
       "      <th>PC-4</th>\n",
       "      <th>PC-5</th>\n",
       "      <th>PC-6</th>\n",
       "      <th>PC-7</th>\n",
       "      <th>PC-8</th>\n",
       "      <th>PC-9</th>\n",
       "      <th>PC-10</th>\n",
       "      <th>PC-11</th>\n",
       "      <th>PC-12</th>\n",
       "    </tr>\n",
       "  </thead>\n",
       "  <tbody>\n",
       "    <tr>\n",
       "      <th>0</th>\n",
       "      <td>0</td>\n",
       "      <td>0</td>\n",
       "      <td>0</td>\n",
       "      <td>0</td>\n",
       "      <td>1</td>\n",
       "      <td>0</td>\n",
       "      <td>0</td>\n",
       "      <td>0</td>\n",
       "      <td>1</td>\n",
       "      <td>0</td>\n",
       "      <td>...</td>\n",
       "      <td>-0.150297</td>\n",
       "      <td>-0.066069</td>\n",
       "      <td>0.269318</td>\n",
       "      <td>-0.215425</td>\n",
       "      <td>-0.097656</td>\n",
       "      <td>0.864680</td>\n",
       "      <td>0.612199</td>\n",
       "      <td>-0.696648</td>\n",
       "      <td>-0.078467</td>\n",
       "      <td>-0.576010</td>\n",
       "    </tr>\n",
       "    <tr>\n",
       "      <th>1</th>\n",
       "      <td>1</td>\n",
       "      <td>0</td>\n",
       "      <td>1</td>\n",
       "      <td>0</td>\n",
       "      <td>0</td>\n",
       "      <td>0</td>\n",
       "      <td>0</td>\n",
       "      <td>0</td>\n",
       "      <td>1</td>\n",
       "      <td>0</td>\n",
       "      <td>...</td>\n",
       "      <td>-1.794198</td>\n",
       "      <td>1.016920</td>\n",
       "      <td>-0.070479</td>\n",
       "      <td>0.558647</td>\n",
       "      <td>-0.378851</td>\n",
       "      <td>0.039545</td>\n",
       "      <td>0.008158</td>\n",
       "      <td>0.056061</td>\n",
       "      <td>-0.003010</td>\n",
       "      <td>0.076591</td>\n",
       "    </tr>\n",
       "    <tr>\n",
       "      <th>2</th>\n",
       "      <td>0</td>\n",
       "      <td>0</td>\n",
       "      <td>0</td>\n",
       "      <td>1</td>\n",
       "      <td>0</td>\n",
       "      <td>0</td>\n",
       "      <td>0</td>\n",
       "      <td>0</td>\n",
       "      <td>0</td>\n",
       "      <td>1</td>\n",
       "      <td>...</td>\n",
       "      <td>0.129103</td>\n",
       "      <td>0.070549</td>\n",
       "      <td>-0.038202</td>\n",
       "      <td>-0.017841</td>\n",
       "      <td>0.022800</td>\n",
       "      <td>0.058345</td>\n",
       "      <td>-0.050358</td>\n",
       "      <td>0.000891</td>\n",
       "      <td>-0.007951</td>\n",
       "      <td>0.016560</td>\n",
       "    </tr>\n",
       "    <tr>\n",
       "      <th>3</th>\n",
       "      <td>3</td>\n",
       "      <td>0</td>\n",
       "      <td>0</td>\n",
       "      <td>0</td>\n",
       "      <td>1</td>\n",
       "      <td>0</td>\n",
       "      <td>0</td>\n",
       "      <td>0</td>\n",
       "      <td>0</td>\n",
       "      <td>1</td>\n",
       "      <td>...</td>\n",
       "      <td>0.192176</td>\n",
       "      <td>0.137236</td>\n",
       "      <td>-0.110825</td>\n",
       "      <td>0.350901</td>\n",
       "      <td>-0.208844</td>\n",
       "      <td>-0.560366</td>\n",
       "      <td>0.064872</td>\n",
       "      <td>0.047916</td>\n",
       "      <td>-0.040938</td>\n",
       "      <td>-0.003264</td>\n",
       "    </tr>\n",
       "    <tr>\n",
       "      <th>4</th>\n",
       "      <td>1</td>\n",
       "      <td>0</td>\n",
       "      <td>0</td>\n",
       "      <td>0</td>\n",
       "      <td>1</td>\n",
       "      <td>0</td>\n",
       "      <td>0</td>\n",
       "      <td>0</td>\n",
       "      <td>1</td>\n",
       "      <td>0</td>\n",
       "      <td>...</td>\n",
       "      <td>0.205641</td>\n",
       "      <td>0.068262</td>\n",
       "      <td>-0.176627</td>\n",
       "      <td>-0.108807</td>\n",
       "      <td>-0.012813</td>\n",
       "      <td>0.573311</td>\n",
       "      <td>-0.043624</td>\n",
       "      <td>0.230517</td>\n",
       "      <td>0.030779</td>\n",
       "      <td>0.518507</td>\n",
       "    </tr>\n",
       "  </tbody>\n",
       "</table>\n",
       "<p>5 rows × 34 columns</p>\n",
       "</div>"
      ],
      "text/plain": [
       "   DELAYED  EDUCATION_0  EDUCATION_1  EDUCATION_2  EDUCATION_3  EDUCATION_4  \\\n",
       "0        0            0            0            0            1            0   \n",
       "1        1            0            1            0            0            0   \n",
       "2        0            0            0            1            0            0   \n",
       "3        3            0            0            0            1            0   \n",
       "4        1            0            0            0            1            0   \n",
       "\n",
       "   EDUCATION_5  EDUCATION_6  SEX_1  SEX_2  ...      PC-3      PC-4      PC-5  \\\n",
       "0            0            0      1      0  ... -0.150297 -0.066069  0.269318   \n",
       "1            0            0      1      0  ... -1.794198  1.016920 -0.070479   \n",
       "2            0            0      0      1  ...  0.129103  0.070549 -0.038202   \n",
       "3            0            0      0      1  ...  0.192176  0.137236 -0.110825   \n",
       "4            0            0      1      0  ...  0.205641  0.068262 -0.176627   \n",
       "\n",
       "       PC-6      PC-7      PC-8      PC-9     PC-10     PC-11     PC-12  \n",
       "0 -0.215425 -0.097656  0.864680  0.612199 -0.696648 -0.078467 -0.576010  \n",
       "1  0.558647 -0.378851  0.039545  0.008158  0.056061 -0.003010  0.076591  \n",
       "2 -0.017841  0.022800  0.058345 -0.050358  0.000891 -0.007951  0.016560  \n",
       "3  0.350901 -0.208844 -0.560366  0.064872  0.047916 -0.040938 -0.003264  \n",
       "4 -0.108807 -0.012813  0.573311 -0.043624  0.230517  0.030779  0.518507  \n",
       "\n",
       "[5 rows x 34 columns]"
      ]
     },
     "execution_count": 12,
     "metadata": {},
     "output_type": "execute_result"
    }
   ],
   "source": [
    "X_train.head()"
   ]
  },
  {
   "cell_type": "code",
   "execution_count": 13,
   "metadata": {},
   "outputs": [],
   "source": [
    "X_copy = X_train\n",
    "X_train = np.array(X_train)"
   ]
  },
  {
   "cell_type": "code",
   "execution_count": 14,
   "metadata": {},
   "outputs": [],
   "source": [
    "from sklearn.linear_model import LogisticRegression\n",
    "\n",
    "classifier = LogisticRegression()"
   ]
  },
  {
   "cell_type": "code",
   "execution_count": 15,
   "metadata": {},
   "outputs": [],
   "source": [
    "param_grid = {\n",
    "                'preprocessing__imputer__strategy' : ['mean'],\n",
    "                'feature_selection__SelectKBest__k' : [15,16,17,18,19], \n",
    "                'classifier__penalty' : ['l1'], \n",
    "                'classifier__tol' : [1e-3],\n",
    "                'classifier__C' : [0.01, 0.1, 1],\n",
    "                'classifier__class_weight' : ['balanced'],\n",
    "                'classifier__solver' : ['saga'],\n",
    "                'classifier__max_iter' : [10000]\n",
    "                }"
   ]
  },
  {
   "cell_type": "markdown",
   "metadata": {},
   "source": [
    "Create validation folds"
   ]
  },
  {
   "cell_type": "code",
   "execution_count": 16,
   "metadata": {},
   "outputs": [],
   "source": [
    "n_folds = 5\n",
    "\n",
    "from sklearn.model_selection import KFold\n",
    "\n",
    "def create_folds(X,y,n_folds):\n",
    "    folds = []\n",
    "    cv_object = KFold(n_splits = n_folds)\n",
    "    for (train_indices, val_indices) in cv_object.split(X_train, y_train):\n",
    "        folds.append((train_indices,val_indices))\n",
    "    return folds"
   ]
  },
  {
   "cell_type": "code",
   "execution_count": 17,
   "metadata": {},
   "outputs": [
    {
     "name": "stdout",
     "output_type": "stream",
     "text": [
      "Fitting 5 folds for each of 15 candidates, totalling 75 fits\n"
     ]
    },
    {
     "name": "stderr",
     "output_type": "stream",
     "text": [
      "<frozen importlib._bootstrap>:219: RuntimeWarning: scipy._lib.messagestream.MessageStream size changed, may indicate binary incompatibility. Expected 56 from C header, got 64 from PyObject\n",
      "<frozen importlib._bootstrap>:219: RuntimeWarning: scipy._lib.messagestream.MessageStream size changed, may indicate binary incompatibility. Expected 56 from C header, got 64 from PyObject\n",
      "<frozen importlib._bootstrap>:219: RuntimeWarning: scipy._lib.messagestream.MessageStream size changed, may indicate binary incompatibility. Expected 56 from C header, got 64 from PyObject\n",
      "<frozen importlib._bootstrap>:219: RuntimeWarning: scipy._lib.messagestream.MessageStream size changed, may indicate binary incompatibility. Expected 56 from C header, got 64 from PyObject\n"
     ]
    },
    {
     "data": {
      "text/plain": [
       "GridSearchCV(cv=[(array([ 4020,  4021,  4022, ..., 20097, 20098, 20099]),\n",
       "                  array([   0,    1,    2, ..., 4017, 4018, 4019])),\n",
       "                 (array([    0,     1,     2, ..., 20097, 20098, 20099]),\n",
       "                  array([4020, 4021, 4022, ..., 8037, 8038, 8039])),\n",
       "                 (array([    0,     1,     2, ..., 20097, 20098, 20099]),\n",
       "                  array([ 8040,  8041,  8042, ..., 12057, 12058, 12059])),\n",
       "                 (array([    0,     1,     2, ..., 20097, 20098, 20099]),\n",
       "                  array([12060, 12061, 12062, ..., 16077, 16078, 16079...\n",
       "             param_grid={'classifier__C': [0.01, 0.1, 1],\n",
       "                         'classifier__class_weight': ['balanced'],\n",
       "                         'classifier__max_iter': [10000],\n",
       "                         'classifier__penalty': ['l1'],\n",
       "                         'classifier__solver': ['saga'],\n",
       "                         'classifier__tol': [0.001],\n",
       "                         'feature_selection__SelectKBest__k': [15, 16, 17, 18,\n",
       "                                                               19],\n",
       "                         'preprocessing__imputer__strategy': ['mean']},\n",
       "             refit='f1', return_train_score=True,\n",
       "             scoring=['accuracy', 'f1', 'roc_auc'], verbose=1)"
      ]
     },
     "execution_count": 17,
     "metadata": {},
     "output_type": "execute_result"
    }
   ],
   "source": [
    "pipeline = Pipeline([\n",
    "    ('preprocessing', preprocessing),\n",
    "    ('feature_selection', feature_selection),\n",
    "    ('classifier', classifier)])\n",
    "\n",
    "folds = create_folds(X_train,y_train,n_folds)\n",
    "assert isinstance(folds,list),'Folds must be presented as tuples of train and test index lists' \n",
    "\n",
    "# train model\n",
    "cv = GridSearchCV(pipeline, param_grid, n_jobs=4, cv=folds, verbose=1, return_train_score=True, refit='f1', scoring=['accuracy', 'f1', 'roc_auc'] )\n",
    "cv.fit(X_train, y_train)"
   ]
  },
  {
   "cell_type": "code",
   "execution_count": 18,
   "metadata": {},
   "outputs": [
    {
     "name": "stdout",
     "output_type": "stream",
     "text": [
      "Training f1 0.5287772792205132 +/- 0.002491309691332813\n",
      "Cross-validation f1: 0.5292689005143351 +/- 0.010162726303148338\n",
      "Cross-validation acc: 0.7702487562189054 +/- 0.008915889291282692\n",
      "Cross-validation auc: 0.7509208907549729 +/- 0.01118909557493362\n",
      "Best estimator:\n",
      "Pipeline(steps=[('preprocessing',\n",
      "                 Pipeline(steps=[('scaler', StandardScaler()),\n",
      "                                 ('imputer', SimpleImputer())])),\n",
      "                ('feature_selection',\n",
      "                 Pipeline(steps=[('SelectKBest', SelectKBest(k=17))])),\n",
      "                ('classifier',\n",
      "                 LogisticRegression(C=0.01, class_weight='balanced',\n",
      "                                    max_iter=10000, penalty='l1', solver='saga',\n",
      "                                    tol=0.001))])\n"
     ]
    }
   ],
   "source": [
    "results = cv.cv_results_\n",
    "mean_train_score = results['mean_train_f1'][cv.best_index_]\n",
    "std_train_score = results['std_train_f1'][cv.best_index_]\n",
    "mean_cv_score = results['mean_test_f1'][cv.best_index_]\n",
    "std_cv_score = results['std_test_f1'][cv.best_index_]\n",
    "\n",
    "mean_cv_acc = results['mean_test_accuracy'][cv.best_index_]\n",
    "std_cv_acc = results['std_test_accuracy'][cv.best_index_]\n",
    "\n",
    "mean_cv_auc = results['mean_test_roc_auc'][cv.best_index_]\n",
    "std_cv_auc = results['std_test_roc_auc'][cv.best_index_]\n",
    "\n",
    "\n",
    "print('Training f1 {} +/- {}'.format(mean_train_score, std_train_score))\n",
    "print('Cross-validation f1: {} +/- {}'.format(mean_cv_score, std_cv_score))\n",
    "print('Cross-validation acc: {} +/- {}'.format(mean_cv_acc, std_cv_acc))\n",
    "print('Cross-validation auc: {} +/- {}'.format(mean_cv_auc, std_cv_auc))\n",
    "\n",
    "print('Best estimator:')\n",
    "print(cv.best_estimator_)"
   ]
  },
  {
   "cell_type": "code",
   "execution_count": 19,
   "metadata": {},
   "outputs": [
    {
     "data": {
      "image/png": "[encoded data removed]",
      "text/plain": [
       "<Figure size 504x432 with 2 Axes>"
      ]
     },
     "metadata": {
      "needs_background": "light"
     },
     "output_type": "display_data"
    }
   ],
   "source": [
    "for _, val_indices in folds:\n",
    "    from sklearn.metrics import confusion_matrix\n",
    "    import seaborn as sns\n",
    "    X = X_train[val_indices]\n",
    "    y = y_train[val_indices]\n",
    "    y_pred = cv.best_estimator_.predict(X)\n",
    "    labels = y\n",
    "    cm = confusion_matrix(y, y_pred)\n",
    "    # Normalise\n",
    "    cmn = cm.astype('float') / cm.sum(axis=1)[:, np.newaxis]\n",
    "    fig, ax = plt.subplots(figsize=(7,6))\n",
    "    sns.heatmap(cmn, annot=True, fmt='.2f', cmap=\"YlGnBu\")\n",
    "    plt.ylabel('True Values')\n",
    "    plt.xlabel('Predicted Values')\n",
    "    plt.title(\"Confusion matrix validation set LR\")\n",
    "    plt.show(block=False)\n",
    "    break\n",
    "   \n",
    "    "
   ]
  },
  {
   "cell_type": "code",
   "execution_count": 20,
   "metadata": {},
   "outputs": [
    {
     "name": "stdout",
     "output_type": "stream",
     "text": [
      "Prediction only dominant class: ROC AUC=0.500\n",
      "Model: ROC AUC=0.760\n"
     ]
    },
    {
     "data": {
      "image/png": "[encoded data removed]",
      "text/plain": [
       "<Figure size 432x288 with 1 Axes>"
      ]
     },
     "metadata": {
      "needs_background": "light"
     },
     "output_type": "display_data"
    }
   ],
   "source": [
    "from sklearn.metrics import roc_curve\n",
    "from sklearn.metrics import roc_auc_score\n",
    "from matplotlib import pyplot\n",
    "\n",
    "\n",
    "for _ ,val_indices in folds:\n",
    "    # generate a no skill prediction (majority class)\n",
    "    ns_probs = [0 for _ in range(len(y_train[val_indices]))]\n",
    "    X = X_train[val_indices]\n",
    "    y = y_train[val_indices]\n",
    "    lr_probs = cv.best_estimator_.predict_proba(X)\n",
    "    # keep probabilities for the positive outcome only\n",
    "    lr_probs = lr_probs[:, 1]\n",
    "    # calculate scores\n",
    "    ns_auc = roc_auc_score(y, ns_probs)\n",
    "    lr_auc = roc_auc_score(y, lr_probs)\n",
    "    # summarize scores\n",
    "    print('Prediction only dominant class: ROC AUC=%.3f' % (ns_auc))\n",
    "    print('Model: ROC AUC=%.3f' % (lr_auc))\n",
    "    # calculate roc curves\n",
    "    ns_fpr, ns_tpr, _ = roc_curve(y, ns_probs)\n",
    "    lr_fpr, lr_tpr, _ = roc_curve(y, lr_probs)\n",
    "    # plot the roc curve for the model\n",
    "    pyplot.plot(ns_fpr, ns_tpr, linestyle='--', label='Dominant pred : AUC = %.3f' % (ns_auc))\n",
    "    pyplot.plot(lr_fpr, lr_tpr, marker='.', label='Model : AUC = %.3f' % (lr_auc))\n",
    "    # axis labels\n",
    "    pyplot.xlabel('False Positive Rate')\n",
    "    pyplot.ylabel('True Positive Rate')\n",
    "    # show the legend\n",
    "    pyplot.legend(loc = 'lower right')\n",
    "    pyplot.title(\"ROC - Validation set LR\")\n",
    "    # show the plot\n",
    "    pyplot.show()\n",
    "    break"
   ]
  },
  {
   "cell_type": "markdown",
   "metadata": {},
   "source": [
    "Selected variables"
   ]
  },
  {
   "cell_type": "code",
   "execution_count": 21,
   "metadata": {},
   "outputs": [
    {
     "data": {
      "text/plain": [
       "Index(['DELAYED', 'PAY_0', 'PAY_6', 'PAY_3', 'PAY_4', 'PAY_5', 'PAY_2',\n",
       "       'LIMIT_BAL', 'PC-2', 'SEX_2', 'EDUCATION_1', 'SEX_1', 'EDUCATION_2',\n",
       "       'EDUCATION_3', 'PC-8', 'EDUCATION_5', 'PC-1'],\n",
       "      dtype='object')"
      ]
     },
     "execution_count": 21,
     "metadata": {},
     "output_type": "execute_result"
    }
   ],
   "source": [
    "k = cv.best_estimator_.named_steps['feature_selection']['SelectKBest'].k\n",
    "\n",
    "a = cv.best_estimator_.named_steps[\"feature_selection\"][\"SelectKBest\"].scores_\n",
    "ind = np.argpartition(a, -k)[-k:][::-1]\n",
    "a[ind]\n",
    "X_copy.columns[ind]\n"
   ]
  },
  {
   "cell_type": "markdown",
   "metadata": {},
   "source": [
    "#### Finding optimal cutoff\n",
    "By maximizing precision-recall. Economics of the problem is not considered. This threshold will give the lowest false positive rate and the highest true positive rate."
   ]
  },
  {
   "cell_type": "code",
   "execution_count": 22,
   "metadata": {},
   "outputs": [
    {
     "data": {
      "text/plain": [
       "0.4817303861143862"
      ]
     },
     "execution_count": 22,
     "metadata": {},
     "output_type": "execute_result"
    }
   ],
   "source": [
    " from sklearn.metrics import roc_curve\n",
    " preds =cv.best_estimator_.predict_proba(X_train)[:,1]\n",
    "\n",
    " fpr, tpr, thresholds = roc_curve(y_train, preds)\n",
    " optimal_idx = np.argmax(tpr - fpr)\n",
    " optimal_threshold = thresholds[optimal_idx]\n",
    "\n",
    " optimal_threshold\n",
    "\n"
   ]
  },
  {
   "cell_type": "markdown",
   "metadata": {},
   "source": [
    "#### Testing model"
   ]
  },
  {
   "cell_type": "code",
   "execution_count": 23,
   "metadata": {},
   "outputs": [],
   "source": [
    "X_test = pd.DataFrame(X_test, columns = train_indices)"
   ]
  },
  {
   "cell_type": "markdown",
   "metadata": {},
   "source": [
    "Preprocessing"
   ]
  },
  {
   "cell_type": "code",
   "execution_count": 24,
   "metadata": {},
   "outputs": [
    {
     "data": {
      "text/html": [
       "<div>\n",
       "<style scoped>\n",
       "    .dataframe tbody tr th:only-of-type {\n",
       "        vertical-align: middle;\n",
       "    }\n",
       "\n",
       "    .dataframe tbody tr th {\n",
       "        vertical-align: top;\n",
       "    }\n",
       "\n",
       "    .dataframe thead th {\n",
       "        text-align: right;\n",
       "    }\n",
       "</style>\n",
       "<table border=\"1\" class=\"dataframe\">\n",
       "  <thead>\n",
       "    <tr style=\"text-align: right;\">\n",
       "      <th></th>\n",
       "      <th>PC-1</th>\n",
       "      <th>PC-2</th>\n",
       "      <th>PC-3</th>\n",
       "      <th>PC-4</th>\n",
       "      <th>PC-5</th>\n",
       "      <th>PC-6</th>\n",
       "      <th>PC-7</th>\n",
       "      <th>PC-8</th>\n",
       "      <th>PC-9</th>\n",
       "      <th>PC-10</th>\n",
       "      <th>PC-11</th>\n",
       "      <th>PC-12</th>\n",
       "    </tr>\n",
       "  </thead>\n",
       "  <tbody>\n",
       "    <tr>\n",
       "      <th>0</th>\n",
       "      <td>-1.312954</td>\n",
       "      <td>-0.165650</td>\n",
       "      <td>0.004028</td>\n",
       "      <td>-0.045705</td>\n",
       "      <td>-0.010804</td>\n",
       "      <td>-0.031890</td>\n",
       "      <td>0.017360</td>\n",
       "      <td>-0.174981</td>\n",
       "      <td>0.005189</td>\n",
       "      <td>0.016967</td>\n",
       "      <td>-0.000156</td>\n",
       "      <td>-0.001803</td>\n",
       "    </tr>\n",
       "    <tr>\n",
       "      <th>1</th>\n",
       "      <td>1.999618</td>\n",
       "      <td>-0.931094</td>\n",
       "      <td>-0.144955</td>\n",
       "      <td>-0.008154</td>\n",
       "      <td>-0.005640</td>\n",
       "      <td>-0.074735</td>\n",
       "      <td>-0.060257</td>\n",
       "      <td>0.387825</td>\n",
       "      <td>0.051836</td>\n",
       "      <td>0.004073</td>\n",
       "      <td>0.089311</td>\n",
       "      <td>-0.056549</td>\n",
       "    </tr>\n",
       "    <tr>\n",
       "      <th>2</th>\n",
       "      <td>0.757705</td>\n",
       "      <td>-0.598073</td>\n",
       "      <td>0.045267</td>\n",
       "      <td>-0.092921</td>\n",
       "      <td>-0.036272</td>\n",
       "      <td>-0.077223</td>\n",
       "      <td>-0.005224</td>\n",
       "      <td>-0.297939</td>\n",
       "      <td>-0.039414</td>\n",
       "      <td>0.003613</td>\n",
       "      <td>-0.004138</td>\n",
       "      <td>-0.003856</td>\n",
       "    </tr>\n",
       "    <tr>\n",
       "      <th>3</th>\n",
       "      <td>-1.133171</td>\n",
       "      <td>0.083491</td>\n",
       "      <td>0.047366</td>\n",
       "      <td>0.046161</td>\n",
       "      <td>-0.394538</td>\n",
       "      <td>-0.032984</td>\n",
       "      <td>-0.181101</td>\n",
       "      <td>0.063852</td>\n",
       "      <td>0.088822</td>\n",
       "      <td>-0.032296</td>\n",
       "      <td>-0.046352</td>\n",
       "      <td>0.019506</td>\n",
       "    </tr>\n",
       "    <tr>\n",
       "      <th>4</th>\n",
       "      <td>-0.400414</td>\n",
       "      <td>-0.589694</td>\n",
       "      <td>-0.077626</td>\n",
       "      <td>0.003955</td>\n",
       "      <td>0.079980</td>\n",
       "      <td>-0.088785</td>\n",
       "      <td>-0.087256</td>\n",
       "      <td>0.609177</td>\n",
       "      <td>-0.302591</td>\n",
       "      <td>-0.119636</td>\n",
       "      <td>0.177198</td>\n",
       "      <td>0.161705</td>\n",
       "    </tr>\n",
       "  </tbody>\n",
       "</table>\n",
       "</div>"
      ],
      "text/plain": [
       "       PC-1      PC-2      PC-3      PC-4      PC-5      PC-6      PC-7  \\\n",
       "0 -1.312954 -0.165650  0.004028 -0.045705 -0.010804 -0.031890  0.017360   \n",
       "1  1.999618 -0.931094 -0.144955 -0.008154 -0.005640 -0.074735 -0.060257   \n",
       "2  0.757705 -0.598073  0.045267 -0.092921 -0.036272 -0.077223 -0.005224   \n",
       "3 -1.133171  0.083491  0.047366  0.046161 -0.394538 -0.032984 -0.181101   \n",
       "4 -0.400414 -0.589694 -0.077626  0.003955  0.079980 -0.088785 -0.087256   \n",
       "\n",
       "       PC-8      PC-9     PC-10     PC-11     PC-12  \n",
       "0 -0.174981  0.005189  0.016967 -0.000156 -0.001803  \n",
       "1  0.387825  0.051836  0.004073  0.089311 -0.056549  \n",
       "2 -0.297939 -0.039414  0.003613 -0.004138 -0.003856  \n",
       "3  0.063852  0.088822 -0.032296 -0.046352  0.019506  \n",
       "4  0.609177 -0.302591 -0.119636  0.177198  0.161705  "
      ]
     },
     "execution_count": 24,
     "metadata": {},
     "output_type": "execute_result"
    }
   ],
   "source": [
    "pca_indices = np.array(['BILL_AMT1', 'BILL_AMT2', 'BILL_AMT3', 'BILL_AMT4', 'BILL_AMT5',\n",
    "       'BILL_AMT6', 'PAY_AMT1', 'PAY_AMT2', 'PAY_AMT3', 'PAY_AMT4', 'PAY_AMT5',\n",
    "       'PAY_AMT6'])\n",
    "\n",
    "pca_features = X_test[pca_indices]\n",
    "pca_features.head()\n",
    "\n",
    "scale = StandardScaler()\n",
    "pca_features = scale.fit_transform(pca_features)\n",
    "\n",
    "pca_features = pca.fit_transform(pca_features)\n",
    "\n",
    "components_indices = ['PC-1','PC-2','PC-3','PC-4','PC-5','PC-6','PC-7','PC-8','PC-9',\n",
    "                'PC-10','PC-11','PC-12']\n",
    "\n",
    "pca_df = pd.DataFrame(pca_features, columns=components_indices)\n",
    "pca_df.head()"
   ]
  },
  {
   "cell_type": "code",
   "execution_count": 25,
   "metadata": {},
   "outputs": [
    {
     "data": {
      "image/png": "[encoded data removed]",
      "text/plain": [
       "<Figure size 432x288 with 1 Axes>"
      ]
     },
     "metadata": {
      "needs_background": "light"
     },
     "output_type": "display_data"
    }
   ],
   "source": [
    "plt.plot(\n",
    "    np.arange(1, pca.n_components_ + 1), pca.explained_variance_ratio_, \"+\", linewidth=2,\n",
    "    label=\"var_explained\", linestyle='-'\n",
    ")\n",
    "\n",
    "plt.plot(\n",
    "    np.arange(1, pca.n_components_ + 1), np.cumsum(pca.explained_variance_ratio_), \"x\", linewidth=2, \n",
    "    label=\"cumulative_var_explained\", linestyle='-'\n",
    ")\n",
    "plt.ylabel(\"PCA explained variance ratio\")\n",
    "plt.xlabel('n_principial_components')\n",
    "plt.show()"
   ]
  },
  {
   "cell_type": "code",
   "execution_count": 26,
   "metadata": {},
   "outputs": [],
   "source": [
    "X_test.drop(pca_indices,axis=1, inplace=True)\n",
    "X_test = pd.concat((X_test, pca_df), axis = 1)"
   ]
  },
  {
   "cell_type": "code",
   "execution_count": 27,
   "metadata": {},
   "outputs": [
    {
     "data": {
      "text/html": [
       "<div>\n",
       "<style scoped>\n",
       "    .dataframe tbody tr th:only-of-type {\n",
       "        vertical-align: middle;\n",
       "    }\n",
       "\n",
       "    .dataframe tbody tr th {\n",
       "        vertical-align: top;\n",
       "    }\n",
       "\n",
       "    .dataframe thead th {\n",
       "        text-align: right;\n",
       "    }\n",
       "</style>\n",
       "<table border=\"1\" class=\"dataframe\">\n",
       "  <thead>\n",
       "    <tr style=\"text-align: right;\">\n",
       "      <th></th>\n",
       "      <th>DELAYED</th>\n",
       "      <th>EDUCATION_0</th>\n",
       "      <th>EDUCATION_1</th>\n",
       "      <th>EDUCATION_2</th>\n",
       "      <th>EDUCATION_3</th>\n",
       "      <th>EDUCATION_4</th>\n",
       "      <th>EDUCATION_5</th>\n",
       "      <th>EDUCATION_6</th>\n",
       "      <th>SEX_1</th>\n",
       "      <th>SEX_2</th>\n",
       "      <th>...</th>\n",
       "      <th>PC-3</th>\n",
       "      <th>PC-4</th>\n",
       "      <th>PC-5</th>\n",
       "      <th>PC-6</th>\n",
       "      <th>PC-7</th>\n",
       "      <th>PC-8</th>\n",
       "      <th>PC-9</th>\n",
       "      <th>PC-10</th>\n",
       "      <th>PC-11</th>\n",
       "      <th>PC-12</th>\n",
       "    </tr>\n",
       "  </thead>\n",
       "  <tbody>\n",
       "    <tr>\n",
       "      <th>0</th>\n",
       "      <td>0</td>\n",
       "      <td>0</td>\n",
       "      <td>0</td>\n",
       "      <td>1</td>\n",
       "      <td>0</td>\n",
       "      <td>0</td>\n",
       "      <td>0</td>\n",
       "      <td>0</td>\n",
       "      <td>1</td>\n",
       "      <td>0</td>\n",
       "      <td>...</td>\n",
       "      <td>0.004028</td>\n",
       "      <td>-0.045705</td>\n",
       "      <td>-0.010804</td>\n",
       "      <td>-0.031890</td>\n",
       "      <td>0.017360</td>\n",
       "      <td>-0.174981</td>\n",
       "      <td>0.005189</td>\n",
       "      <td>0.016967</td>\n",
       "      <td>-0.000156</td>\n",
       "      <td>-0.001803</td>\n",
       "    </tr>\n",
       "    <tr>\n",
       "      <th>1</th>\n",
       "      <td>0</td>\n",
       "      <td>0</td>\n",
       "      <td>1</td>\n",
       "      <td>0</td>\n",
       "      <td>0</td>\n",
       "      <td>0</td>\n",
       "      <td>0</td>\n",
       "      <td>0</td>\n",
       "      <td>0</td>\n",
       "      <td>1</td>\n",
       "      <td>...</td>\n",
       "      <td>-0.144955</td>\n",
       "      <td>-0.008154</td>\n",
       "      <td>-0.005640</td>\n",
       "      <td>-0.074735</td>\n",
       "      <td>-0.060257</td>\n",
       "      <td>0.387825</td>\n",
       "      <td>0.051836</td>\n",
       "      <td>0.004073</td>\n",
       "      <td>0.089311</td>\n",
       "      <td>-0.056549</td>\n",
       "    </tr>\n",
       "    <tr>\n",
       "      <th>2</th>\n",
       "      <td>0</td>\n",
       "      <td>0</td>\n",
       "      <td>0</td>\n",
       "      <td>0</td>\n",
       "      <td>1</td>\n",
       "      <td>0</td>\n",
       "      <td>0</td>\n",
       "      <td>0</td>\n",
       "      <td>0</td>\n",
       "      <td>1</td>\n",
       "      <td>...</td>\n",
       "      <td>0.045267</td>\n",
       "      <td>-0.092921</td>\n",
       "      <td>-0.036272</td>\n",
       "      <td>-0.077223</td>\n",
       "      <td>-0.005224</td>\n",
       "      <td>-0.297939</td>\n",
       "      <td>-0.039414</td>\n",
       "      <td>0.003613</td>\n",
       "      <td>-0.004138</td>\n",
       "      <td>-0.003856</td>\n",
       "    </tr>\n",
       "    <tr>\n",
       "      <th>3</th>\n",
       "      <td>0</td>\n",
       "      <td>0</td>\n",
       "      <td>0</td>\n",
       "      <td>0</td>\n",
       "      <td>1</td>\n",
       "      <td>0</td>\n",
       "      <td>0</td>\n",
       "      <td>0</td>\n",
       "      <td>1</td>\n",
       "      <td>0</td>\n",
       "      <td>...</td>\n",
       "      <td>0.047366</td>\n",
       "      <td>0.046161</td>\n",
       "      <td>-0.394538</td>\n",
       "      <td>-0.032984</td>\n",
       "      <td>-0.181101</td>\n",
       "      <td>0.063852</td>\n",
       "      <td>0.088822</td>\n",
       "      <td>-0.032296</td>\n",
       "      <td>-0.046352</td>\n",
       "      <td>0.019506</td>\n",
       "    </tr>\n",
       "    <tr>\n",
       "      <th>4</th>\n",
       "      <td>1</td>\n",
       "      <td>0</td>\n",
       "      <td>0</td>\n",
       "      <td>1</td>\n",
       "      <td>0</td>\n",
       "      <td>0</td>\n",
       "      <td>0</td>\n",
       "      <td>0</td>\n",
       "      <td>0</td>\n",
       "      <td>1</td>\n",
       "      <td>...</td>\n",
       "      <td>-0.077626</td>\n",
       "      <td>0.003955</td>\n",
       "      <td>0.079980</td>\n",
       "      <td>-0.088785</td>\n",
       "      <td>-0.087256</td>\n",
       "      <td>0.609177</td>\n",
       "      <td>-0.302591</td>\n",
       "      <td>-0.119636</td>\n",
       "      <td>0.177198</td>\n",
       "      <td>0.161705</td>\n",
       "    </tr>\n",
       "  </tbody>\n",
       "</table>\n",
       "<p>5 rows × 34 columns</p>\n",
       "</div>"
      ],
      "text/plain": [
       "   DELAYED  EDUCATION_0  EDUCATION_1  EDUCATION_2  EDUCATION_3  EDUCATION_4  \\\n",
       "0        0            0            0            1            0            0   \n",
       "1        0            0            1            0            0            0   \n",
       "2        0            0            0            0            1            0   \n",
       "3        0            0            0            0            1            0   \n",
       "4        1            0            0            1            0            0   \n",
       "\n",
       "   EDUCATION_5  EDUCATION_6  SEX_1  SEX_2  ...      PC-3      PC-4      PC-5  \\\n",
       "0            0            0      1      0  ...  0.004028 -0.045705 -0.010804   \n",
       "1            0            0      0      1  ... -0.144955 -0.008154 -0.005640   \n",
       "2            0            0      0      1  ...  0.045267 -0.092921 -0.036272   \n",
       "3            0            0      1      0  ...  0.047366  0.046161 -0.394538   \n",
       "4            0            0      0      1  ... -0.077626  0.003955  0.079980   \n",
       "\n",
       "       PC-6      PC-7      PC-8      PC-9     PC-10     PC-11     PC-12  \n",
       "0 -0.031890  0.017360 -0.174981  0.005189  0.016967 -0.000156 -0.001803  \n",
       "1 -0.074735 -0.060257  0.387825  0.051836  0.004073  0.089311 -0.056549  \n",
       "2 -0.077223 -0.005224 -0.297939 -0.039414  0.003613 -0.004138 -0.003856  \n",
       "3 -0.032984 -0.181101  0.063852  0.088822 -0.032296 -0.046352  0.019506  \n",
       "4 -0.088785 -0.087256  0.609177 -0.302591 -0.119636  0.177198  0.161705  \n",
       "\n",
       "[5 rows x 34 columns]"
      ]
     },
     "execution_count": 27,
     "metadata": {},
     "output_type": "execute_result"
    }
   ],
   "source": [
    "X_test.head()"
   ]
  },
  {
   "cell_type": "code",
   "execution_count": 28,
   "metadata": {},
   "outputs": [
    {
     "name": "stdout",
     "output_type": "stream",
     "text": [
      "Test f1: 0.5161728115810903\n",
      "Test accuracy: 0.7839393939393939\n",
      "Test auc: 0.6919032567685044\n"
     ]
    }
   ],
   "source": [
    "scale = StandardScaler()\n",
    "X_test = scale.fit_transform(X_test)\n",
    "\n",
    "model = cv.best_estimator_\n",
    "pred = model.predict(X_test)\n",
    "\n",
    "#pred = (model.predict_proba(X_test)[:,1] >= optimal_threshold).astype(bool) # set threshold as optimal threshold\n",
    "\n",
    "f1 = metrics.f1_score(y_test, pred)\n",
    "auc = metrics.roc_auc_score(y_test, pred)\n",
    "acc = metrics.accuracy_score(y_test, pred)\n",
    "\n",
    "print('Test f1: {}'.format(f1))\n",
    "print('Test accuracy: {}'.format(acc))\n",
    "print('Test auc: {}'.format(auc))"
   ]
  },
  {
   "cell_type": "code",
   "execution_count": 29,
   "metadata": {},
   "outputs": [
    {
     "data": {
      "image/png": "[encoded data removed]",
      "text/plain": [
       "<Figure size 504x432 with 2 Axes>"
      ]
     },
     "metadata": {
      "needs_background": "light"
     },
     "output_type": "display_data"
    }
   ],
   "source": [
    "cm = confusion_matrix(y_test, pred)\n",
    "# Normalise\n",
    "cmn = cm.astype('float') / cm.sum(axis=1)[:, np.newaxis]\n",
    "fig, ax = plt.subplots(figsize=(7,6))\n",
    "sns.heatmap(cmn, annot=True, fmt='.2f', cmap=\"YlGnBu\")\n",
    "plt.ylabel('True Values')\n",
    "plt.xlabel('Predicted Values')\n",
    "plt.title(\"Confusion matrix test set LR\")\n",
    "plt.show(block=False)"
   ]
  },
  {
   "cell_type": "code",
   "execution_count": 30,
   "metadata": {},
   "outputs": [
    {
     "name": "stdout",
     "output_type": "stream",
     "text": [
      "Prediction only dominant class: ROC AUC=0.500\n",
      "Model: ROC AUC=0.692\n"
     ]
    },
    {
     "data": {
      "image/png": "[encoded data removed]",
      "text/plain": [
       "<Figure size 432x288 with 1 Axes>"
      ]
     },
     "metadata": {
      "needs_background": "light"
     },
     "output_type": "display_data"
    }
   ],
   "source": [
    "lr_probs = pred\n",
    "#lr_probs = cv.best_estimator_.predict_proba(X_test)\n",
    "ns_probs = [0 for _ in range(len(y_test))]\n",
    "# keep probabilities for the positive outcome only\n",
    "#lr_probs = lr_probs[:, 1]\n",
    "# calculate scores\n",
    "ns_auc = roc_auc_score(y_test, ns_probs)\n",
    "lr_auc = roc_auc_score(y_test, lr_probs)\n",
    "# summarize scores\n",
    "print('Prediction only dominant class: ROC AUC=%.3f' % (ns_auc))\n",
    "print('Model: ROC AUC=%.3f' % (lr_auc))\n",
    "# calculate roc curves\n",
    "ns_fpr, ns_tpr, _ = roc_curve(y_test, ns_probs)\n",
    "lr_fpr, lr_tpr, _ = roc_curve(y_test, lr_probs)\n",
    "# plot the roc curve for the model\n",
    "pyplot.plot(ns_fpr, ns_tpr, linestyle='--', label='Dominant pred : AUC = %.3f' % (ns_auc))\n",
    "pyplot.plot(lr_fpr, lr_tpr, marker='.', label='Model : AUC = %.3f' % (lr_auc))\n",
    "# axis labels\n",
    "pyplot.xlabel('False Positive Rate')\n",
    "pyplot.ylabel('True Positive Rate')\n",
    "# show the legend\n",
    "pyplot.legend(loc = 'lower right')\n",
    "pyplot.title(\"ROC - Test set LR\")\n",
    "# show the plot\n",
    "pyplot.show()"
   ]
  }
 ],
 "metadata": {
  "kernelspec": {
   "display_name": "Python 3.8.12 ('condaml')",
   "language": "python",
   "name": "python3"
  },
  "language_info": {
   "codemirror_mode": {
    "name": "ipython",
    "version": 3
   },
   "file_extension": ".py",
   "mimetype": "text/x-python",
   "name": "python",
   "nbconvert_exporter": "python",
   "pygments_lexer": "ipython3",
   "version": "3.8.12"
  },
  "orig_nbformat": 4,
  "vscode": {
   "interpreter": {
    "hash": "d8d9b7c5796d4a49284a6919f1cae677c7f985ddb1021cb8534a76a814c7554c"
   }
  }
 },
 "nbformat": 4,
 "nbformat_minor": 2
}
